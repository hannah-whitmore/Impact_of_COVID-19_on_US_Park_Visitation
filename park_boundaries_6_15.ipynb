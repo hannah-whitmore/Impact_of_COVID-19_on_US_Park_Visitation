{
 "cells": [
  {
   "cell_type": "code",
   "execution_count": 2,
   "metadata": {},
   "outputs": [],
   "source": [
    "import pandas as pd\n",
    "from shapely.geometry import Point\n",
    "import geopandas as gpd\n",
    "pd.set_option('display.max_columns', None)\n",
    "import matplotlib.pyplot as plt\n",
    "import plotly.express as px\n",
    "from tqdm import tqdm\n",
    "import time\n",
    "import numpy as np"
   ]
  },
  {
   "cell_type": "markdown",
   "metadata": {},
   "source": [
    "### Read in all parks dataframe"
   ]
  },
  {
   "cell_type": "code",
   "execution_count": 3,
   "metadata": {},
   "outputs": [],
   "source": [
    "all_parks_df = pd.read_pickle(\"../../21_6_1/notebooks/all_parks_df.pkl\")"
   ]
  },
  {
   "cell_type": "code",
   "execution_count": 4,
   "metadata": {},
   "outputs": [
    {
     "data": {
      "text/html": [
       "<div>\n",
       "<style scoped>\n",
       "    .dataframe tbody tr th:only-of-type {\n",
       "        vertical-align: middle;\n",
       "    }\n",
       "\n",
       "    .dataframe tbody tr th {\n",
       "        vertical-align: top;\n",
       "    }\n",
       "\n",
       "    .dataframe thead th {\n",
       "        text-align: right;\n",
       "    }\n",
       "</style>\n",
       "<table border=\"1\" class=\"dataframe\">\n",
       "  <thead>\n",
       "    <tr style=\"text-align: right;\">\n",
       "      <th></th>\n",
       "      <th>NAME</th>\n",
       "      <th>FEATTYPE</th>\n",
       "      <th>MNFC</th>\n",
       "      <th>SQMI</th>\n",
       "      <th>Shape_Leng</th>\n",
       "      <th>Shape_Area</th>\n",
       "      <th>geometry</th>\n",
       "    </tr>\n",
       "  </thead>\n",
       "  <tbody>\n",
       "    <tr>\n",
       "      <th>0</th>\n",
       "      <td>Pago Pago Park</td>\n",
       "      <td>Local park</td>\n",
       "      <td>7170</td>\n",
       "      <td>0.02</td>\n",
       "      <td>0.010034</td>\n",
       "      <td>0.000005</td>\n",
       "      <td>POLYGON ((-170.70291 -14.27240, -170.70316 -14...</td>\n",
       "    </tr>\n",
       "    <tr>\n",
       "      <th>1</th>\n",
       "      <td>National Park of American Samoa</td>\n",
       "      <td>National park</td>\n",
       "      <td>7170</td>\n",
       "      <td>4.06</td>\n",
       "      <td>0.326497</td>\n",
       "      <td>0.000881</td>\n",
       "      <td>MULTIPOLYGON (((-170.71479 -14.28528, -170.714...</td>\n",
       "    </tr>\n",
       "    <tr>\n",
       "      <th>3</th>\n",
       "      <td>Hawaiian Islands National Wildlife Refuge</td>\n",
       "      <td>Regional park</td>\n",
       "      <td>7170</td>\n",
       "      <td>2.67</td>\n",
       "      <td>0.327720</td>\n",
       "      <td>0.000620</td>\n",
       "      <td>MULTIPOLYGON (((-161.92806 23.05707, -161.9281...</td>\n",
       "    </tr>\n",
       "    <tr>\n",
       "      <th>4</th>\n",
       "      <td>Russian Fort Elizabeth State Historical Park</td>\n",
       "      <td>State park</td>\n",
       "      <td>7170</td>\n",
       "      <td>0.03</td>\n",
       "      <td>0.010972</td>\n",
       "      <td>0.000006</td>\n",
       "      <td>POLYGON ((-159.66526 21.94916, -159.66526 21.9...</td>\n",
       "    </tr>\n",
       "    <tr>\n",
       "      <th>5</th>\n",
       "      <td>Waimea Recreation Pier Park</td>\n",
       "      <td>Local park</td>\n",
       "      <td>7170</td>\n",
       "      <td>0.01</td>\n",
       "      <td>0.004661</td>\n",
       "      <td>0.000001</td>\n",
       "      <td>POLYGON ((-159.66955 21.95445, -159.66961 21.9...</td>\n",
       "    </tr>\n",
       "  </tbody>\n",
       "</table>\n",
       "</div>"
      ],
      "text/plain": [
       "                                           NAME       FEATTYPE  MNFC  SQMI  \\\n",
       "0                                Pago Pago Park     Local park  7170  0.02   \n",
       "1               National Park of American Samoa  National park  7170  4.06   \n",
       "3     Hawaiian Islands National Wildlife Refuge  Regional park  7170  2.67   \n",
       "4  Russian Fort Elizabeth State Historical Park     State park  7170  0.03   \n",
       "5                   Waimea Recreation Pier Park     Local park  7170  0.01   \n",
       "\n",
       "   Shape_Leng  Shape_Area                                           geometry  \n",
       "0    0.010034    0.000005  POLYGON ((-170.70291 -14.27240, -170.70316 -14...  \n",
       "1    0.326497    0.000881  MULTIPOLYGON (((-170.71479 -14.28528, -170.714...  \n",
       "3    0.327720    0.000620  MULTIPOLYGON (((-161.92806 23.05707, -161.9281...  \n",
       "4    0.010972    0.000006  POLYGON ((-159.66526 21.94916, -159.66526 21.9...  \n",
       "5    0.004661    0.000001  POLYGON ((-159.66955 21.95445, -159.66961 21.9...  "
      ]
     },
     "execution_count": 4,
     "metadata": {},
     "output_type": "execute_result"
    }
   ],
   "source": [
    "all_parks_df.head()"
   ]
  },
  {
   "cell_type": "code",
   "execution_count": 5,
   "metadata": {
    "scrolled": false
   },
   "outputs": [
    {
     "data": {
      "text/plain": [
       "(array([1.0000e+00, 1.9000e+01, 1.3140e+03, 1.4736e+04, 1.7276e+04,\n",
       "        5.3290e+03, 2.1970e+03, 4.6300e+02, 6.8000e+01, 2.2000e+01]),\n",
       " array([-13.67740216, -11.10196802,  -8.52653389,  -5.95109975,\n",
       "         -3.37566562,  -0.80023149,   1.77520265,   4.35063678,\n",
       "          6.92607092,   9.50150505,  12.07693918]),\n",
       " <BarContainer object of 10 artists>)"
      ]
     },
     "execution_count": 5,
     "metadata": {},
     "output_type": "execute_result"
    },
    {
     "data": {
      "image/png": "[encoded data removed]",
      "text/plain": [
       "<Figure size 432x288 with 1 Axes>"
      ]
     },
     "metadata": {
      "needs_background": "light"
     },
     "output_type": "display_data"
    }
   ],
   "source": [
    "plt.hist(np.log(all_parks_df['Shape_Area']*10000))"
   ]
  },
  {
   "cell_type": "code",
   "execution_count": 40,
   "metadata": {},
   "outputs": [],
   "source": [
    "all_parks_df = all_parks_df.to_crs(epsg = 6933)"
   ]
  },
  {
   "cell_type": "code",
   "execution_count": 41,
   "metadata": {},
   "outputs": [],
   "source": [
    "all_parks_df[\"area (km sq)\"] = all_parks_df['geometry'].area/ 10**6"
   ]
  },
  {
   "cell_type": "markdown",
   "metadata": {},
   "source": [
    "### Read in POI CSV files and convert to geodataframes "
   ]
  },
  {
   "cell_type": "code",
   "execution_count": 4,
   "metadata": {},
   "outputs": [],
   "source": [
    "### read in the POI CSVs"
   ]
  },
  {
   "cell_type": "code",
   "execution_count": 23,
   "metadata": {},
   "outputs": [
    {
     "name": "stderr",
     "output_type": "stream",
     "text": [
      "100%|██████████| 5/5 [00:33<00:00,  6.75s/it]\n"
     ]
    }
   ],
   "source": [
    "dfs = {}\n",
    "\n",
    "for i in tqdm([0,1,2,3,4]):\n",
    "    df_name = f\"poi_{i+1}\"\n",
    "    dfs[df_name] = pd.read_csv(f'../input_data/core_poi-part{i+1}.csv', encoding = 'latin1')"
   ]
  },
  {
   "cell_type": "code",
   "execution_count": 5,
   "metadata": {},
   "outputs": [],
   "source": [
    "### convert each POI df to GDF and put in a set of GDFs"
   ]
  },
  {
   "cell_type": "code",
   "execution_count": 24,
   "metadata": {},
   "outputs": [
    {
     "name": "stderr",
     "output_type": "stream",
     "text": [
      "100%|██████████| 5/5 [01:19<00:00, 15.92s/it]\n"
     ]
    }
   ],
   "source": [
    "gdfs = {}\n",
    "\n",
    "for i in tqdm([0,1,2,3,4]):\n",
    "    gdf_name = f\"poi_{i+1}_gdf\"\n",
    "    df = dfs[f\"poi_{i+1}\"]\n",
    "    gdfs[gdf_name] = gpd.GeoDataFrame(df, geometry=gpd.points_from_xy(df.longitude, df.latitude, crs=\"EPSG:4326\"))"
   ]
  },
  {
   "cell_type": "code",
   "execution_count": 25,
   "metadata": {},
   "outputs": [
    {
     "data": {
      "text/plain": [
       "geopandas.geodataframe.GeoDataFrame"
      ]
     },
     "execution_count": 25,
     "metadata": {},
     "output_type": "execute_result"
    }
   ],
   "source": [
    "type(gdfs[\"poi_1_gdf\"])"
   ]
  },
  {
   "cell_type": "markdown",
   "metadata": {},
   "source": [
    "### Spatial join between POI gdfs and all_parks to find which POIs fall within the boundaries of parks"
   ]
  },
  {
   "cell_type": "code",
   "execution_count": 7,
   "metadata": {},
   "outputs": [],
   "source": [
    "points_within_1 = gpd.sjoin(gdfs[\"poi_1_gdf\"] , all_parks_df, op='within')"
   ]
  },
  {
   "cell_type": "code",
   "execution_count": 27,
   "metadata": {},
   "outputs": [],
   "source": [
    "points_within_2 = gpd.sjoin(gdfs[\"poi_2_gdf\"] , all_parks_df, op='within')"
   ]
  },
  {
   "cell_type": "code",
   "execution_count": 28,
   "metadata": {},
   "outputs": [],
   "source": [
    "points_within_3 = gpd.sjoin(gdfs[\"poi_3_gdf\"] , all_parks_df, op='within')"
   ]
  },
  {
   "cell_type": "code",
   "execution_count": 29,
   "metadata": {},
   "outputs": [],
   "source": [
    "points_within_4 = gpd.sjoin(gdfs[\"poi_4_gdf\"] , all_parks_df, op='within')"
   ]
  },
  {
   "cell_type": "code",
   "execution_count": 30,
   "metadata": {},
   "outputs": [],
   "source": [
    "points_within_5 = gpd.sjoin(gdfs[\"poi_5_gdf\"] , all_parks_df, op='within')"
   ]
  },
  {
   "cell_type": "code",
   "execution_count": 31,
   "metadata": {},
   "outputs": [],
   "source": [
    "all_points_within_df = pd.concat([points_within_1, points_within_2, points_within_3, points_within_4, points_within_5])"
   ]
  },
  {
   "cell_type": "markdown",
   "metadata": {},
   "source": [
    "### Explore spatial join between all_parks and POI gdfs -- "
   ]
  },
  {
   "cell_type": "markdown",
   "metadata": {},
   "source": [
    "### Make final df grouped by park, so that for each park there is a featttype column, list of place POI ids that fall in the boundaries of that park, list of the POI points, and the number of POIs"
   ]
  },
  {
   "cell_type": "code",
   "execution_count": 8,
   "metadata": {},
   "outputs": [],
   "source": [
    "### make a point column from lat/long"
   ]
  },
  {
   "cell_type": "code",
   "execution_count": 32,
   "metadata": {},
   "outputs": [],
   "source": [
    "all_points_within_df['poi_point'] = list(zip(all_points_within_df['latitude'],all_points_within_df['longitude']))"
   ]
  },
  {
   "cell_type": "code",
   "execution_count": 10,
   "metadata": {},
   "outputs": [],
   "source": [
    "### for each park, make a column for the list of POIs, number of POIs, and place ID"
   ]
  },
  {
   "cell_type": "code",
   "execution_count": 33,
   "metadata": {},
   "outputs": [],
   "source": [
    "points_within_list_df = all_points_within_df.groupby('NAME')['poi_point'].apply(list).reset_index(name='poi_point_list')"
   ]
  },
  {
   "cell_type": "code",
   "execution_count": 34,
   "metadata": {},
   "outputs": [],
   "source": [
    "points_within_list_df['num_poi'] = points_within_list_df['poi_point_list'].apply(lambda x: len(x))"
   ]
  },
  {
   "cell_type": "code",
   "execution_count": 35,
   "metadata": {},
   "outputs": [],
   "source": [
    "park_ids_list_df = all_points_within_df.groupby('NAME')['safegraph_place_id'].apply(list).reset_index(name='id_list')"
   ]
  },
  {
   "cell_type": "code",
   "execution_count": 36,
   "metadata": {},
   "outputs": [],
   "source": [
    "points_and_ids_df = park_ids_list_df.merge(points_within_list_df, how='inner', on='NAME')"
   ]
  },
  {
   "cell_type": "code",
   "execution_count": 37,
   "metadata": {},
   "outputs": [],
   "source": [
    "points_within_parks_df = (all_parks_df[['NAME', 'FEATTYPE']].merge(points_and_ids_df, how='inner', on='NAME')\n",
    "                                                            .sort_values('num_poi', ascending=False)\n",
    "                                                            .reset_index(drop=True))"
   ]
  },
  {
   "cell_type": "code",
   "execution_count": 38,
   "metadata": {},
   "outputs": [
    {
     "data": {
      "text/html": [
       "<div>\n",
       "<style scoped>\n",
       "    .dataframe tbody tr th:only-of-type {\n",
       "        vertical-align: middle;\n",
       "    }\n",
       "\n",
       "    .dataframe tbody tr th {\n",
       "        vertical-align: top;\n",
       "    }\n",
       "\n",
       "    .dataframe thead th {\n",
       "        text-align: right;\n",
       "    }\n",
       "</style>\n",
       "<table border=\"1\" class=\"dataframe\">\n",
       "  <thead>\n",
       "    <tr style=\"text-align: right;\">\n",
       "      <th></th>\n",
       "      <th>NAME</th>\n",
       "      <th>FEATTYPE</th>\n",
       "      <th>id_list</th>\n",
       "      <th>poi_point_list</th>\n",
       "      <th>num_poi</th>\n",
       "    </tr>\n",
       "  </thead>\n",
       "  <tbody>\n",
       "    <tr>\n",
       "      <th>0</th>\n",
       "      <td>Adirondack Park</td>\n",
       "      <td>State park</td>\n",
       "      <td>[sg:ff6701bae8994b94bf22dae510051681, sg:80943...</td>\n",
       "      <td>[(44.279539, -73.980577), (43.776927, -74.2614...</td>\n",
       "      <td>2474</td>\n",
       "    </tr>\n",
       "    <tr>\n",
       "      <th>1</th>\n",
       "      <td>Kodiak National Wildlife Refuge</td>\n",
       "      <td>National park</td>\n",
       "      <td>[sg:ec13e80265ef4b6989f1fe2905188763, sg:8d41d...</td>\n",
       "      <td>[(57.790870999999996, -152.405307), (57.787818...</td>\n",
       "      <td>233</td>\n",
       "    </tr>\n",
       "    <tr>\n",
       "      <th>2</th>\n",
       "      <td>Catskill Park</td>\n",
       "      <td>State park</td>\n",
       "      <td>[sg:65571ad2f7b54ab19d52625cfd767284, sg:fafa6...</td>\n",
       "      <td>[(42.200418, -74.19337800000001), (42.305681, ...</td>\n",
       "      <td>204</td>\n",
       "    </tr>\n",
       "    <tr>\n",
       "      <th>3</th>\n",
       "      <td>Yukon Delta National Wildlife Refuge</td>\n",
       "      <td>Regional park</td>\n",
       "      <td>[sg:65481c0d2ed0456899117052810720b5, sg:a7fa9...</td>\n",
       "      <td>[(60.794488, -161.768617), (60.533051, -165.10...</td>\n",
       "      <td>168</td>\n",
       "    </tr>\n",
       "    <tr>\n",
       "      <th>4</th>\n",
       "      <td>Kaloko Honokohau National Historical Park</td>\n",
       "      <td>National park</td>\n",
       "      <td>[sg:1e067d0e27b244768417082a746c1e90, sg:a83ff...</td>\n",
       "      <td>[(19.68432, -156.018516), (19.672991, -156.015...</td>\n",
       "      <td>158</td>\n",
       "    </tr>\n",
       "    <tr>\n",
       "      <th>...</th>\n",
       "      <td>...</td>\n",
       "      <td>...</td>\n",
       "      <td>...</td>\n",
       "      <td>...</td>\n",
       "      <td>...</td>\n",
       "    </tr>\n",
       "    <tr>\n",
       "      <th>28715</th>\n",
       "      <td>Blumberg Park</td>\n",
       "      <td>Local park</td>\n",
       "      <td>[sg:a546361618d8437fb8a9b1ec1b889914]</td>\n",
       "      <td>[(29.579283, -97.972852)]</td>\n",
       "      <td>1</td>\n",
       "    </tr>\n",
       "    <tr>\n",
       "      <th>28716</th>\n",
       "      <td>Marion City Park</td>\n",
       "      <td>Local park</td>\n",
       "      <td>[sg:05a679fe46374a2c9b52be63106e7304]</td>\n",
       "      <td>[(29.573371, -98.140771)]</td>\n",
       "      <td>1</td>\n",
       "    </tr>\n",
       "    <tr>\n",
       "      <th>28717</th>\n",
       "      <td>Cypress Bend Park</td>\n",
       "      <td>Local park</td>\n",
       "      <td>[sg:87d52095dcd7410aaf4d48e5b2ca271c]</td>\n",
       "      <td>[(29.711453000000002, -98.106381)]</td>\n",
       "      <td>1</td>\n",
       "    </tr>\n",
       "    <tr>\n",
       "      <th>28718</th>\n",
       "      <td>Governor Ireland Park</td>\n",
       "      <td>Local park</td>\n",
       "      <td>[sg:8d68b4ad3acc4f2abb8c319526b7b194]</td>\n",
       "      <td>[(29.550512, -98.000312)]</td>\n",
       "      <td>1</td>\n",
       "    </tr>\n",
       "    <tr>\n",
       "      <th>28719</th>\n",
       "      <td>Big Rock City Park</td>\n",
       "      <td>Local park</td>\n",
       "      <td>[sg:4b90272894454b3a8557abab62fff038]</td>\n",
       "      <td>[(41.425499, -92.93191999999999)]</td>\n",
       "      <td>1</td>\n",
       "    </tr>\n",
       "  </tbody>\n",
       "</table>\n",
       "<p>28720 rows × 5 columns</p>\n",
       "</div>"
      ],
      "text/plain": [
       "                                            NAME       FEATTYPE  \\\n",
       "0                                Adirondack Park     State park   \n",
       "1                Kodiak National Wildlife Refuge  National park   \n",
       "2                                  Catskill Park     State park   \n",
       "3           Yukon Delta National Wildlife Refuge  Regional park   \n",
       "4      Kaloko Honokohau National Historical Park  National park   \n",
       "...                                          ...            ...   \n",
       "28715                              Blumberg Park     Local park   \n",
       "28716                           Marion City Park     Local park   \n",
       "28717                          Cypress Bend Park     Local park   \n",
       "28718                      Governor Ireland Park     Local park   \n",
       "28719                         Big Rock City Park     Local park   \n",
       "\n",
       "                                                 id_list  \\\n",
       "0      [sg:ff6701bae8994b94bf22dae510051681, sg:80943...   \n",
       "1      [sg:ec13e80265ef4b6989f1fe2905188763, sg:8d41d...   \n",
       "2      [sg:65571ad2f7b54ab19d52625cfd767284, sg:fafa6...   \n",
       "3      [sg:65481c0d2ed0456899117052810720b5, sg:a7fa9...   \n",
       "4      [sg:1e067d0e27b244768417082a746c1e90, sg:a83ff...   \n",
       "...                                                  ...   \n",
       "28715              [sg:a546361618d8437fb8a9b1ec1b889914]   \n",
       "28716              [sg:05a679fe46374a2c9b52be63106e7304]   \n",
       "28717              [sg:87d52095dcd7410aaf4d48e5b2ca271c]   \n",
       "28718              [sg:8d68b4ad3acc4f2abb8c319526b7b194]   \n",
       "28719              [sg:4b90272894454b3a8557abab62fff038]   \n",
       "\n",
       "                                          poi_point_list  num_poi  \n",
       "0      [(44.279539, -73.980577), (43.776927, -74.2614...     2474  \n",
       "1      [(57.790870999999996, -152.405307), (57.787818...      233  \n",
       "2      [(42.200418, -74.19337800000001), (42.305681, ...      204  \n",
       "3      [(60.794488, -161.768617), (60.533051, -165.10...      168  \n",
       "4      [(19.68432, -156.018516), (19.672991, -156.015...      158  \n",
       "...                                                  ...      ...  \n",
       "28715                          [(29.579283, -97.972852)]        1  \n",
       "28716                          [(29.573371, -98.140771)]        1  \n",
       "28717                 [(29.711453000000002, -98.106381)]        1  \n",
       "28718                          [(29.550512, -98.000312)]        1  \n",
       "28719                  [(41.425499, -92.93191999999999)]        1  \n",
       "\n",
       "[28720 rows x 5 columns]"
      ]
     },
     "execution_count": 38,
     "metadata": {},
     "output_type": "execute_result"
    }
   ],
   "source": [
    "points_within_parks_df"
   ]
  },
  {
   "cell_type": "markdown",
   "metadata": {},
   "source": [
    "### For parks that have multiple POIs within their boundaries, split each of these POIs into separate rows "
   ]
  },
  {
   "cell_type": "code",
   "execution_count": 1,
   "metadata": {},
   "outputs": [],
   "source": [
    "### First concat all duplicates into lists and then expand into new rows"
   ]
  },
  {
   "cell_type": "code",
   "execution_count": 39,
   "metadata": {},
   "outputs": [],
   "source": [
    "for col in ['NAME', 'FEATTYPE', 'num_poi']:\n",
    "    points_within_parks_df[f'{col}_list'] = points_within_parks_df[col].apply(lambda x: [x])\n",
    "    points_within_parks_df[f'all_{col}_list'] = points_within_parks_df[f'{col}_list'] * points_within_parks_df['num_poi']"
   ]
  },
  {
   "cell_type": "code",
   "execution_count": 40,
   "metadata": {},
   "outputs": [
    {
     "data": {
      "text/html": [
       "<div>\n",
       "<style scoped>\n",
       "    .dataframe tbody tr th:only-of-type {\n",
       "        vertical-align: middle;\n",
       "    }\n",
       "\n",
       "    .dataframe tbody tr th {\n",
       "        vertical-align: top;\n",
       "    }\n",
       "\n",
       "    .dataframe thead th {\n",
       "        text-align: right;\n",
       "    }\n",
       "</style>\n",
       "<table border=\"1\" class=\"dataframe\">\n",
       "  <thead>\n",
       "    <tr style=\"text-align: right;\">\n",
       "      <th></th>\n",
       "      <th>NAME</th>\n",
       "      <th>FEATTYPE</th>\n",
       "      <th>id_list</th>\n",
       "      <th>poi_point_list</th>\n",
       "      <th>num_poi</th>\n",
       "      <th>NAME_list</th>\n",
       "      <th>all_NAME_list</th>\n",
       "      <th>FEATTYPE_list</th>\n",
       "      <th>all_FEATTYPE_list</th>\n",
       "      <th>num_poi_list</th>\n",
       "      <th>all_num_poi_list</th>\n",
       "    </tr>\n",
       "  </thead>\n",
       "  <tbody>\n",
       "    <tr>\n",
       "      <th>0</th>\n",
       "      <td>Adirondack Park</td>\n",
       "      <td>State park</td>\n",
       "      <td>[sg:ff6701bae8994b94bf22dae510051681, sg:80943...</td>\n",
       "      <td>[(44.279539, -73.980577), (43.776927, -74.2614...</td>\n",
       "      <td>2474</td>\n",
       "      <td>[Adirondack Park]</td>\n",
       "      <td>[Adirondack Park, Adirondack Park, Adirondack ...</td>\n",
       "      <td>[State park]</td>\n",
       "      <td>[State park, State park, State park, State par...</td>\n",
       "      <td>[2474]</td>\n",
       "      <td>[2474, 2474, 2474, 2474, 2474, 2474, 2474, 247...</td>\n",
       "    </tr>\n",
       "    <tr>\n",
       "      <th>1</th>\n",
       "      <td>Kodiak National Wildlife Refuge</td>\n",
       "      <td>National park</td>\n",
       "      <td>[sg:ec13e80265ef4b6989f1fe2905188763, sg:8d41d...</td>\n",
       "      <td>[(57.790870999999996, -152.405307), (57.787818...</td>\n",
       "      <td>233</td>\n",
       "      <td>[Kodiak National Wildlife Refuge]</td>\n",
       "      <td>[Kodiak National Wildlife Refuge, Kodiak Natio...</td>\n",
       "      <td>[National park]</td>\n",
       "      <td>[National park, National park, National park, ...</td>\n",
       "      <td>[233]</td>\n",
       "      <td>[233, 233, 233, 233, 233, 233, 233, 233, 233, ...</td>\n",
       "    </tr>\n",
       "    <tr>\n",
       "      <th>2</th>\n",
       "      <td>Catskill Park</td>\n",
       "      <td>State park</td>\n",
       "      <td>[sg:65571ad2f7b54ab19d52625cfd767284, sg:fafa6...</td>\n",
       "      <td>[(42.200418, -74.19337800000001), (42.305681, ...</td>\n",
       "      <td>204</td>\n",
       "      <td>[Catskill Park]</td>\n",
       "      <td>[Catskill Park, Catskill Park, Catskill Park, ...</td>\n",
       "      <td>[State park]</td>\n",
       "      <td>[State park, State park, State park, State par...</td>\n",
       "      <td>[204]</td>\n",
       "      <td>[204, 204, 204, 204, 204, 204, 204, 204, 204, ...</td>\n",
       "    </tr>\n",
       "    <tr>\n",
       "      <th>3</th>\n",
       "      <td>Yukon Delta National Wildlife Refuge</td>\n",
       "      <td>Regional park</td>\n",
       "      <td>[sg:65481c0d2ed0456899117052810720b5, sg:a7fa9...</td>\n",
       "      <td>[(60.794488, -161.768617), (60.533051, -165.10...</td>\n",
       "      <td>168</td>\n",
       "      <td>[Yukon Delta National Wildlife Refuge]</td>\n",
       "      <td>[Yukon Delta National Wildlife Refuge, Yukon D...</td>\n",
       "      <td>[Regional park]</td>\n",
       "      <td>[Regional park, Regional park, Regional park, ...</td>\n",
       "      <td>[168]</td>\n",
       "      <td>[168, 168, 168, 168, 168, 168, 168, 168, 168, ...</td>\n",
       "    </tr>\n",
       "    <tr>\n",
       "      <th>4</th>\n",
       "      <td>Kaloko Honokohau National Historical Park</td>\n",
       "      <td>National park</td>\n",
       "      <td>[sg:1e067d0e27b244768417082a746c1e90, sg:a83ff...</td>\n",
       "      <td>[(19.68432, -156.018516), (19.672991, -156.015...</td>\n",
       "      <td>158</td>\n",
       "      <td>[Kaloko Honokohau National Historical Park]</td>\n",
       "      <td>[Kaloko Honokohau National Historical Park, Ka...</td>\n",
       "      <td>[National park]</td>\n",
       "      <td>[National park, National park, National park, ...</td>\n",
       "      <td>[158]</td>\n",
       "      <td>[158, 158, 158, 158, 158, 158, 158, 158, 158, ...</td>\n",
       "    </tr>\n",
       "  </tbody>\n",
       "</table>\n",
       "</div>"
      ],
      "text/plain": [
       "                                        NAME       FEATTYPE  \\\n",
       "0                            Adirondack Park     State park   \n",
       "1            Kodiak National Wildlife Refuge  National park   \n",
       "2                              Catskill Park     State park   \n",
       "3       Yukon Delta National Wildlife Refuge  Regional park   \n",
       "4  Kaloko Honokohau National Historical Park  National park   \n",
       "\n",
       "                                             id_list  \\\n",
       "0  [sg:ff6701bae8994b94bf22dae510051681, sg:80943...   \n",
       "1  [sg:ec13e80265ef4b6989f1fe2905188763, sg:8d41d...   \n",
       "2  [sg:65571ad2f7b54ab19d52625cfd767284, sg:fafa6...   \n",
       "3  [sg:65481c0d2ed0456899117052810720b5, sg:a7fa9...   \n",
       "4  [sg:1e067d0e27b244768417082a746c1e90, sg:a83ff...   \n",
       "\n",
       "                                      poi_point_list  num_poi  \\\n",
       "0  [(44.279539, -73.980577), (43.776927, -74.2614...     2474   \n",
       "1  [(57.790870999999996, -152.405307), (57.787818...      233   \n",
       "2  [(42.200418, -74.19337800000001), (42.305681, ...      204   \n",
       "3  [(60.794488, -161.768617), (60.533051, -165.10...      168   \n",
       "4  [(19.68432, -156.018516), (19.672991, -156.015...      158   \n",
       "\n",
       "                                     NAME_list  \\\n",
       "0                            [Adirondack Park]   \n",
       "1            [Kodiak National Wildlife Refuge]   \n",
       "2                              [Catskill Park]   \n",
       "3       [Yukon Delta National Wildlife Refuge]   \n",
       "4  [Kaloko Honokohau National Historical Park]   \n",
       "\n",
       "                                       all_NAME_list    FEATTYPE_list  \\\n",
       "0  [Adirondack Park, Adirondack Park, Adirondack ...     [State park]   \n",
       "1  [Kodiak National Wildlife Refuge, Kodiak Natio...  [National park]   \n",
       "2  [Catskill Park, Catskill Park, Catskill Park, ...     [State park]   \n",
       "3  [Yukon Delta National Wildlife Refuge, Yukon D...  [Regional park]   \n",
       "4  [Kaloko Honokohau National Historical Park, Ka...  [National park]   \n",
       "\n",
       "                                   all_FEATTYPE_list num_poi_list  \\\n",
       "0  [State park, State park, State park, State par...       [2474]   \n",
       "1  [National park, National park, National park, ...        [233]   \n",
       "2  [State park, State park, State park, State par...        [204]   \n",
       "3  [Regional park, Regional park, Regional park, ...        [168]   \n",
       "4  [National park, National park, National park, ...        [158]   \n",
       "\n",
       "                                    all_num_poi_list  \n",
       "0  [2474, 2474, 2474, 2474, 2474, 2474, 2474, 247...  \n",
       "1  [233, 233, 233, 233, 233, 233, 233, 233, 233, ...  \n",
       "2  [204, 204, 204, 204, 204, 204, 204, 204, 204, ...  \n",
       "3  [168, 168, 168, 168, 168, 168, 168, 168, 168, ...  \n",
       "4  [158, 158, 158, 158, 158, 158, 158, 158, 158, ...  "
      ]
     },
     "execution_count": 40,
     "metadata": {},
     "output_type": "execute_result"
    }
   ],
   "source": [
    "points_within_parks_df.head()"
   ]
  },
  {
   "cell_type": "markdown",
   "metadata": {},
   "source": [
    "### Create df from scratch to expand list columns "
   ]
  },
  {
   "cell_type": "code",
   "execution_count": 42,
   "metadata": {},
   "outputs": [],
   "source": [
    "out_df = pd.DataFrame()"
   ]
  },
  {
   "cell_type": "code",
   "execution_count": 43,
   "metadata": {},
   "outputs": [],
   "source": [
    "out_df['park_name'] = list(points_within_parks_df['all_NAME_list'].explode())"
   ]
  },
  {
   "cell_type": "code",
   "execution_count": 44,
   "metadata": {},
   "outputs": [],
   "source": [
    "out_df['feattype'] = list(points_within_parks_df['all_FEATTYPE_list'].explode())"
   ]
  },
  {
   "cell_type": "code",
   "execution_count": 45,
   "metadata": {},
   "outputs": [],
   "source": [
    "out_df['poi_id'] = list(points_within_parks_df['id_list'].explode())"
   ]
  },
  {
   "cell_type": "code",
   "execution_count": 46,
   "metadata": {},
   "outputs": [],
   "source": [
    "out_df['poi_point_within'] =  list(points_within_parks_df['poi_point_list'].explode())"
   ]
  },
  {
   "cell_type": "code",
   "execution_count": 47,
   "metadata": {},
   "outputs": [],
   "source": [
    "out_df['total_poi_count'] =  list(points_within_parks_df['all_num_poi_list'].explode())"
   ]
  },
  {
   "cell_type": "code",
   "execution_count": 48,
   "metadata": {
    "scrolled": false
   },
   "outputs": [
    {
     "data": {
      "text/html": [
       "<div>\n",
       "<style scoped>\n",
       "    .dataframe tbody tr th:only-of-type {\n",
       "        vertical-align: middle;\n",
       "    }\n",
       "\n",
       "    .dataframe tbody tr th {\n",
       "        vertical-align: top;\n",
       "    }\n",
       "\n",
       "    .dataframe thead th {\n",
       "        text-align: right;\n",
       "    }\n",
       "</style>\n",
       "<table border=\"1\" class=\"dataframe\">\n",
       "  <thead>\n",
       "    <tr style=\"text-align: right;\">\n",
       "      <th></th>\n",
       "      <th>park_name</th>\n",
       "      <th>feattype</th>\n",
       "      <th>poi_id</th>\n",
       "      <th>poi_point_within</th>\n",
       "      <th>total_poi_count</th>\n",
       "    </tr>\n",
       "  </thead>\n",
       "  <tbody>\n",
       "    <tr>\n",
       "      <th>0</th>\n",
       "      <td>Adirondack Park</td>\n",
       "      <td>State park</td>\n",
       "      <td>sg:ff6701bae8994b94bf22dae510051681</td>\n",
       "      <td>(44.279539, -73.980577)</td>\n",
       "      <td>2474</td>\n",
       "    </tr>\n",
       "    <tr>\n",
       "      <th>1</th>\n",
       "      <td>Adirondack Park</td>\n",
       "      <td>State park</td>\n",
       "      <td>sg:8094327a02554e65afee6a24210f084c</td>\n",
       "      <td>(43.776927, -74.261485)</td>\n",
       "      <td>2474</td>\n",
       "    </tr>\n",
       "    <tr>\n",
       "      <th>2</th>\n",
       "      <td>Adirondack Park</td>\n",
       "      <td>State park</td>\n",
       "      <td>sg:ab18bb41fbeb4091a86f1731ac75e84d</td>\n",
       "      <td>(43.449052, -73.693711)</td>\n",
       "      <td>2474</td>\n",
       "    </tr>\n",
       "    <tr>\n",
       "      <th>3</th>\n",
       "      <td>Adirondack Park</td>\n",
       "      <td>State park</td>\n",
       "      <td>sg:4ba564561c954ecca134135a3b89f820</td>\n",
       "      <td>(43.751492, -74.79486899999999)</td>\n",
       "      <td>2474</td>\n",
       "    </tr>\n",
       "    <tr>\n",
       "      <th>4</th>\n",
       "      <td>Adirondack Park</td>\n",
       "      <td>State park</td>\n",
       "      <td>sg:9e193c8c8447492fb05451e1412b8ff1</td>\n",
       "      <td>(43.500546, -73.782147)</td>\n",
       "      <td>2474</td>\n",
       "    </tr>\n",
       "  </tbody>\n",
       "</table>\n",
       "</div>"
      ],
      "text/plain": [
       "         park_name    feattype                               poi_id  \\\n",
       "0  Adirondack Park  State park  sg:ff6701bae8994b94bf22dae510051681   \n",
       "1  Adirondack Park  State park  sg:8094327a02554e65afee6a24210f084c   \n",
       "2  Adirondack Park  State park  sg:ab18bb41fbeb4091a86f1731ac75e84d   \n",
       "3  Adirondack Park  State park  sg:4ba564561c954ecca134135a3b89f820   \n",
       "4  Adirondack Park  State park  sg:9e193c8c8447492fb05451e1412b8ff1   \n",
       "\n",
       "                  poi_point_within  total_poi_count  \n",
       "0          (44.279539, -73.980577)             2474  \n",
       "1          (43.776927, -74.261485)             2474  \n",
       "2          (43.449052, -73.693711)             2474  \n",
       "3  (43.751492, -74.79486899999999)             2474  \n",
       "4          (43.500546, -73.782147)             2474  "
      ]
     },
     "execution_count": 48,
     "metadata": {},
     "output_type": "execute_result"
    }
   ],
   "source": [
    "out_df.head()"
   ]
  },
  {
   "cell_type": "code",
   "execution_count": 83,
   "metadata": {},
   "outputs": [
    {
     "data": {
      "text/plain": [
       "48137"
      ]
     },
     "execution_count": 83,
     "metadata": {},
     "output_type": "execute_result"
    }
   ],
   "source": [
    "len(out_df)"
   ]
  },
  {
   "cell_type": "code",
   "execution_count": 45,
   "metadata": {},
   "outputs": [],
   "source": [
    "all_parks_df.to_pickle('../../21_6_6_/notebooks/all_parks_df.pkl')"
   ]
  },
  {
   "cell_type": "code",
   "execution_count": 82,
   "metadata": {},
   "outputs": [],
   "source": [
    "out_df.to_pickle('../../21_6_6_/notebooks/out_df.pkl')"
   ]
  }
 ],
 "metadata": {
  "kernelspec": {
   "display_name": "Python 3",
   "language": "python",
   "name": "python3"
  },
  "language_info": {
   "codemirror_mode": {
    "name": "ipython",
    "version": 3
   },
   "file_extension": ".py",
   "mimetype": "text/x-python",
   "name": "python",
   "nbconvert_exporter": "python",
   "pygments_lexer": "ipython3",
   "version": "3.8.5"
  }
 },
 "nbformat": 4,
 "nbformat_minor": 4
}

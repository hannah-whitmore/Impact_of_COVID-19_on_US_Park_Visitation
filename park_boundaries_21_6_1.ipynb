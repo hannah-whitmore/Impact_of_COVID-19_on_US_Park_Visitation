{
 "cells": [
  {
   "cell_type": "code",
   "execution_count": 1,
   "metadata": {},
   "outputs": [],
   "source": [
    "import pandas as pd\n",
    "import geopandas as gpd\n",
    "import matplotlib.pyplot as plt"
   ]
  },
  {
   "cell_type": "markdown",
   "metadata": {},
   "source": [
    "###  Load national park data from ArcGIS"
   ]
  },
  {
   "cell_type": "code",
   "execution_count": 2,
   "metadata": {},
   "outputs": [],
   "source": [
    "national_parks_shp = gpd.read_file('../input_data/NPS/NPS_-_Land_Resources_Division_Boundary_and_Tract_Data_Service.shp')"
   ]
  },
  {
   "cell_type": "code",
   "execution_count": 4,
   "metadata": {},
   "outputs": [
    {
     "data": {
      "text/html": [
       "<div>\n",
       "<style scoped>\n",
       "    .dataframe tbody tr th:only-of-type {\n",
       "        vertical-align: middle;\n",
       "    }\n",
       "\n",
       "    .dataframe tbody tr th {\n",
       "        vertical-align: top;\n",
       "    }\n",
       "\n",
       "    .dataframe thead th {\n",
       "        text-align: right;\n",
       "    }\n",
       "</style>\n",
       "<table border=\"1\" class=\"dataframe\">\n",
       "  <thead>\n",
       "    <tr style=\"text-align: right;\">\n",
       "      <th></th>\n",
       "      <th>OBJECTID</th>\n",
       "      <th>UNIT_CODE</th>\n",
       "      <th>UNIT_NAME</th>\n",
       "      <th>STATE</th>\n",
       "      <th>REGION</th>\n",
       "      <th>GNIS_ID</th>\n",
       "      <th>UNIT_TYPE</th>\n",
       "      <th>METADATA</th>\n",
       "      <th>PARKNAME</th>\n",
       "      <th>Shape__Are</th>\n",
       "      <th>Shape__Len</th>\n",
       "      <th>GlobalID</th>\n",
       "      <th>geometry</th>\n",
       "    </tr>\n",
       "  </thead>\n",
       "  <tbody>\n",
       "    <tr>\n",
       "      <th>0</th>\n",
       "      <td>1</td>\n",
       "      <td>AMME</td>\n",
       "      <td>American Memorial Park</td>\n",
       "      <td>MP</td>\n",
       "      <td>PW</td>\n",
       "      <td>1879026</td>\n",
       "      <td>Park</td>\n",
       "      <td>Preliminary data. Contact the Land Resources P...</td>\n",
       "      <td>American Memorial Park</td>\n",
       "      <td>6.113585e+05</td>\n",
       "      <td>7740.973865</td>\n",
       "      <td>79037b52-9d9c-4f8c-b65b-70b810814fb0</td>\n",
       "      <td>POLYGON ((16221864.905 1714852.206, 16221867.9...</td>\n",
       "    </tr>\n",
       "    <tr>\n",
       "      <th>1</th>\n",
       "      <td>2</td>\n",
       "      <td>CEBE</td>\n",
       "      <td>Cedar Creek and Belle Grove National Historica...</td>\n",
       "      <td>VA</td>\n",
       "      <td>NE</td>\n",
       "      <td>1985663</td>\n",
       "      <td>National Historical Park</td>\n",
       "      <td>https://irma.nps.gov/DataStore/Reference/Profi...</td>\n",
       "      <td>Cedar Creek &amp; Belle Grove</td>\n",
       "      <td>2.328283e+07</td>\n",
       "      <td>53250.857647</td>\n",
       "      <td>dfdc7906-209d-42e5-95e8-5a0377ca9b06</td>\n",
       "      <td>MULTIPOLYGON (((-8715759.414 4724026.776, -871...</td>\n",
       "    </tr>\n",
       "    <tr>\n",
       "      <th>2</th>\n",
       "      <td>3</td>\n",
       "      <td>LIBI</td>\n",
       "      <td>Little Bighorn Battlefield National Monument</td>\n",
       "      <td>MT</td>\n",
       "      <td>IM</td>\n",
       "      <td>806297</td>\n",
       "      <td>National Monument</td>\n",
       "      <td>https://irma.nps.gov/DataStore/Reference/Profi...</td>\n",
       "      <td>Little Bighorn Battlefield</td>\n",
       "      <td>6.437513e+06</td>\n",
       "      <td>19524.580108</td>\n",
       "      <td>a3affc26-f98a-417d-aa5b-41cfb4988cc8</td>\n",
       "      <td>MULTIPOLYGON (((-11953415.314 5703937.476, -11...</td>\n",
       "    </tr>\n",
       "    <tr>\n",
       "      <th>3</th>\n",
       "      <td>4</td>\n",
       "      <td>CAVO</td>\n",
       "      <td>Capulin Volcano National Monument</td>\n",
       "      <td>NM</td>\n",
       "      <td>IM</td>\n",
       "      <td>936867</td>\n",
       "      <td>National Monument</td>\n",
       "      <td>https://irma.nps.gov/DataStore/Reference/Profi...</td>\n",
       "      <td>Capulin Volcano</td>\n",
       "      <td>4.997144e+06</td>\n",
       "      <td>10529.570772</td>\n",
       "      <td>646548c2-c5b8-4298-a6b2-a82b5977581e</td>\n",
       "      <td>POLYGON ((-11575101.835 4409222.280, -11574603...</td>\n",
       "    </tr>\n",
       "    <tr>\n",
       "      <th>4</th>\n",
       "      <td>5</td>\n",
       "      <td>FOBO</td>\n",
       "      <td>Fort Bowie National Historic Site</td>\n",
       "      <td>AZ</td>\n",
       "      <td>IM</td>\n",
       "      <td>1888916</td>\n",
       "      <td>National Historic Site</td>\n",
       "      <td>https://irma.nps.gov/DataStore/Reference/Profi...</td>\n",
       "      <td>Fort Bowie</td>\n",
       "      <td>5.650399e+06</td>\n",
       "      <td>18638.556950</td>\n",
       "      <td>a19874b5-9d2e-409b-ba2a-8b52f4649602</td>\n",
       "      <td>POLYGON ((-12187153.674 3783174.666, -12187626...</td>\n",
       "    </tr>\n",
       "  </tbody>\n",
       "</table>\n",
       "</div>"
      ],
      "text/plain": [
       "   OBJECTID UNIT_CODE                                          UNIT_NAME  \\\n",
       "0         1      AMME                             American Memorial Park   \n",
       "1         2      CEBE  Cedar Creek and Belle Grove National Historica...   \n",
       "2         3      LIBI       Little Bighorn Battlefield National Monument   \n",
       "3         4      CAVO                  Capulin Volcano National Monument   \n",
       "4         5      FOBO                  Fort Bowie National Historic Site   \n",
       "\n",
       "  STATE REGION  GNIS_ID                 UNIT_TYPE  \\\n",
       "0    MP     PW  1879026                      Park   \n",
       "1    VA     NE  1985663  National Historical Park   \n",
       "2    MT     IM   806297         National Monument   \n",
       "3    NM     IM   936867         National Monument   \n",
       "4    AZ     IM  1888916    National Historic Site   \n",
       "\n",
       "                                            METADATA  \\\n",
       "0  Preliminary data. Contact the Land Resources P...   \n",
       "1  https://irma.nps.gov/DataStore/Reference/Profi...   \n",
       "2  https://irma.nps.gov/DataStore/Reference/Profi...   \n",
       "3  https://irma.nps.gov/DataStore/Reference/Profi...   \n",
       "4  https://irma.nps.gov/DataStore/Reference/Profi...   \n",
       "\n",
       "                     PARKNAME    Shape__Are    Shape__Len  \\\n",
       "0      American Memorial Park  6.113585e+05   7740.973865   \n",
       "1   Cedar Creek & Belle Grove  2.328283e+07  53250.857647   \n",
       "2  Little Bighorn Battlefield  6.437513e+06  19524.580108   \n",
       "3             Capulin Volcano  4.997144e+06  10529.570772   \n",
       "4                  Fort Bowie  5.650399e+06  18638.556950   \n",
       "\n",
       "                               GlobalID  \\\n",
       "0  79037b52-9d9c-4f8c-b65b-70b810814fb0   \n",
       "1  dfdc7906-209d-42e5-95e8-5a0377ca9b06   \n",
       "2  a3affc26-f98a-417d-aa5b-41cfb4988cc8   \n",
       "3  646548c2-c5b8-4298-a6b2-a82b5977581e   \n",
       "4  a19874b5-9d2e-409b-ba2a-8b52f4649602   \n",
       "\n",
       "                                            geometry  \n",
       "0  POLYGON ((16221864.905 1714852.206, 16221867.9...  \n",
       "1  MULTIPOLYGON (((-8715759.414 4724026.776, -871...  \n",
       "2  MULTIPOLYGON (((-11953415.314 5703937.476, -11...  \n",
       "3  POLYGON ((-11575101.835 4409222.280, -11574603...  \n",
       "4  POLYGON ((-12187153.674 3783174.666, -12187626...  "
      ]
     },
     "execution_count": 4,
     "metadata": {},
     "output_type": "execute_result"
    }
   ],
   "source": [
    "national_parks_filt = national_parks_shp.drop(['DATE_EDIT', 'CREATED_BY', 'CreationDa', 'Creator', 'EditDate', 'Editor', 'GIS_Notes'], axis=1)\n",
    "national_parks_filt.head()"
   ]
  },
  {
   "cell_type": "code",
   "execution_count": 6,
   "metadata": {},
   "outputs": [],
   "source": [
    "national_parks_filt.to_pickle(\"../../21_6_1/notebooks/national_parks_filt.pkl\")"
   ]
  },
  {
   "cell_type": "markdown",
   "metadata": {},
   "source": [
    "###  Clean and explore national parks df"
   ]
  },
  {
   "cell_type": "code",
   "execution_count": 7,
   "metadata": {},
   "outputs": [
    {
     "data": {
      "text/plain": [
       "array(['MP', 'VA', 'MT', 'NM', 'AZ', 'FL', 'UT', 'DC', 'MS', 'CA', 'SC',\n",
       "       'NY', 'VI', 'MD', 'MA', 'KS', 'TN', 'WY', 'KY', 'GA', 'NJ', 'TX',\n",
       "       'HI', 'MO', 'AL', 'PA', 'LA', 'NV', 'MI', 'NC', 'SD', 'OH', 'MN',\n",
       "       'AR', 'ID', 'WA', 'NH', 'IN', 'CO', 'ND', 'NE', 'IL', 'VT', 'RI',\n",
       "       'GU', 'OR', 'DE', 'CT', 'ME', 'WI', 'AS', 'OK', 'AK', 'IA', 'PR',\n",
       "       'WV'], dtype=object)"
      ]
     },
     "execution_count": 7,
     "metadata": {},
     "output_type": "execute_result"
    }
   ],
   "source": [
    "national_parks_filt['STATE'].unique() #56\n",
    "# non continental states represented: MP, PR, DC, GU, AS"
   ]
  },
  {
   "cell_type": "code",
   "execution_count": 8,
   "metadata": {},
   "outputs": [],
   "source": [
    "state_count_df = (national_parks_filt['STATE'].value_counts().reset_index()\n",
    "                                              .rename(columns={\"index\": \"state\", \"STATE\": \"count\"}))"
   ]
  },
  {
   "cell_type": "code",
   "execution_count": 9,
   "metadata": {},
   "outputs": [
    {
     "data": {
      "image/png": "[encoded data removed]",
      "text/plain": [
       "<Figure size 1440x360 with 1 Axes>"
      ]
     },
     "metadata": {
      "needs_background": "light"
     },
     "output_type": "display_data"
    }
   ],
   "source": [
    "fig = plt.figure(figsize = (20, 5))\n",
    " \n",
    "plt.xlabel(\"States\", size=12)\n",
    "plt.ylabel(\"Counts\", size =12)\n",
    "plt.title(\"National Parks per US State\", size=15)\n",
    "plt.xticks(rotation=50)\n",
    "\n",
    "count = list(state_count_df['count'])\n",
    "states = list(state_count_df['state'])\n",
    "\n",
    "# Create bars with different colors\n",
    "    \n",
    "plt.bar(states, count, color=['blue', 'red', 'blue', 'blue', 'blue', 'blue', 'blue', 'blue', 'blue', 'blue', 'blue', 'blue',\n",
    "                             'blue', 'blue', 'blue', 'blue', 'blue', 'blue', 'blue', 'blue', 'blue', 'blue', 'blue',\n",
    "                             'blue', 'blue','blue', 'blue', 'blue', 'blue', 'blue', 'blue', 'blue', 'blue', 'blue',\n",
    "                             'blue', 'blue', 'blue', 'blue', 'blue', 'blue', 'blue', 'blue', 'blue', 'blue', 'blue',\n",
    "                             'blue', 'blue', 'blue', 'red', 'red', 'blue', 'blue', 'blue', 'red', 'red', 'blue'])\n",
    "plt.show()"
   ]
  },
  {
   "cell_type": "markdown",
   "metadata": {},
   "source": [
    "###  Examine one park to confirm accuracy - Yellowstone"
   ]
  },
  {
   "cell_type": "code",
   "execution_count": 10,
   "metadata": {},
   "outputs": [],
   "source": [
    "yellowstone_shp = gpd.read_file('../input_data/YELL_tracts/YELL_boundary.shp')"
   ]
  },
  {
   "cell_type": "code",
   "execution_count": 13,
   "metadata": {},
   "outputs": [
    {
     "data": {
      "text/html": [
       "<div>\n",
       "<style scoped>\n",
       "    .dataframe tbody tr th:only-of-type {\n",
       "        vertical-align: middle;\n",
       "    }\n",
       "\n",
       "    .dataframe tbody tr th {\n",
       "        vertical-align: top;\n",
       "    }\n",
       "\n",
       "    .dataframe thead th {\n",
       "        text-align: right;\n",
       "    }\n",
       "</style>\n",
       "<table border=\"1\" class=\"dataframe\">\n",
       "  <thead>\n",
       "    <tr style=\"text-align: right;\">\n",
       "      <th></th>\n",
       "      <th>UNIT_TYPE</th>\n",
       "      <th>STATE</th>\n",
       "      <th>REGION</th>\n",
       "      <th>UNIT_CODE</th>\n",
       "      <th>UNIT_NAME</th>\n",
       "      <th>DATE_EDIT</th>\n",
       "      <th>GIS_NOTES</th>\n",
       "      <th>CREATED_BY</th>\n",
       "      <th>METADATA</th>\n",
       "      <th>PARKNAME</th>\n",
       "      <th>geometry</th>\n",
       "    </tr>\n",
       "  </thead>\n",
       "  <tbody>\n",
       "    <tr>\n",
       "      <th>0</th>\n",
       "      <td>National Park</td>\n",
       "      <td>WY</td>\n",
       "      <td>IM</td>\n",
       "      <td>YELL</td>\n",
       "      <td>Yellowstone National Park</td>\n",
       "      <td>2008-04-23</td>\n",
       "      <td>Lands - http://landsnet.nps.gov/tractsnet/docu...</td>\n",
       "      <td>Lands</td>\n",
       "      <td>http://nrdata.nps.gov/programs/Lands/YELL_meta...</td>\n",
       "      <td>Yellowstone</td>\n",
       "      <td>POLYGON ((-111.09707 44.48732, -111.09707 44.4...</td>\n",
       "    </tr>\n",
       "  </tbody>\n",
       "</table>\n",
       "</div>"
      ],
      "text/plain": [
       "       UNIT_TYPE STATE REGION UNIT_CODE                  UNIT_NAME  \\\n",
       "0  National Park    WY     IM      YELL  Yellowstone National Park   \n",
       "\n",
       "    DATE_EDIT                                          GIS_NOTES CREATED_BY  \\\n",
       "0  2008-04-23  Lands - http://landsnet.nps.gov/tractsnet/docu...      Lands   \n",
       "\n",
       "                                            METADATA     PARKNAME  \\\n",
       "0  http://nrdata.nps.gov/programs/Lands/YELL_meta...  Yellowstone   \n",
       "\n",
       "                                            geometry  \n",
       "0  POLYGON ((-111.09707 44.48732, -111.09707 44.4...  "
      ]
     },
     "execution_count": 13,
     "metadata": {},
     "output_type": "execute_result"
    }
   ],
   "source": [
    "yellowstone_shp"
   ]
  },
  {
   "cell_type": "markdown",
   "metadata": {},
   "source": [
    "###  Plot Yellowstone"
   ]
  },
  {
   "cell_type": "code",
   "execution_count": 14,
   "metadata": {},
   "outputs": [
    {
     "data": {
      "text/plain": [
       "Text(0.5, 1.0, 'Yellowstone National Park')"
      ]
     },
     "execution_count": 14,
     "metadata": {},
     "output_type": "execute_result"
    },
    {
     "data": {
      "image/png": "[encoded data removed]",
      "text/plain": [
       "<Figure size 432x288 with 1 Axes>"
      ]
     },
     "metadata": {
      "needs_background": "light"
     },
     "output_type": "display_data"
    }
   ],
   "source": [
    "%matplotlib inline\n",
    "yel_bound = yellowstone_shp.plot()\n",
    "yel_bound.set_title('Yellowstone National Park', fontsize=15)"
   ]
  },
  {
   "cell_type": "markdown",
   "metadata": {},
   "source": [
    "### Given a lat/long coord, we want to be able identify if it falls within the bounds of a park"
   ]
  },
  {
   "cell_type": "code",
   "execution_count": 15,
   "metadata": {},
   "outputs": [
    {
     "name": "stdout",
     "output_type": "stream",
     "text": [
      "0    True\n",
      "dtype: bool\n",
      "0    False\n",
      "dtype: bool\n"
     ]
    }
   ],
   "source": [
    "from shapely.geometry import Point\n",
    "\n",
    "p1 = Point(-110.75, 44.4) # this point should be within yellowstone\n",
    "p2 = Point(-100.03, 44.4) # this point should not be within yellowstone\n",
    "\n",
    "print(yellowstone_shp.geometry.contains(p1))\n",
    "print(yellowstone_shp.geometry.contains(p2))\n"
   ]
  },
  {
   "cell_type": "markdown",
   "metadata": {},
   "source": [
    "### Load state park data from ArcGIS and isolate state parks from other parks and forests"
   ]
  },
  {
   "cell_type": "code",
   "execution_count": 16,
   "metadata": {},
   "outputs": [],
   "source": [
    "all_parks = gpd.read_file('../input_data/park_geodata/park_dtl.gdb-polygon.shp')"
   ]
  },
  {
   "cell_type": "code",
   "execution_count": 17,
   "metadata": {},
   "outputs": [
    {
     "data": {
      "text/html": [
       "<div>\n",
       "<style scoped>\n",
       "    .dataframe tbody tr th:only-of-type {\n",
       "        vertical-align: middle;\n",
       "    }\n",
       "\n",
       "    .dataframe tbody tr th {\n",
       "        vertical-align: top;\n",
       "    }\n",
       "\n",
       "    .dataframe thead th {\n",
       "        text-align: right;\n",
       "    }\n",
       "</style>\n",
       "<table border=\"1\" class=\"dataframe\">\n",
       "  <thead>\n",
       "    <tr style=\"text-align: right;\">\n",
       "      <th></th>\n",
       "      <th>NAME</th>\n",
       "      <th>FEATTYPE</th>\n",
       "      <th>MNFC</th>\n",
       "      <th>SQMI</th>\n",
       "      <th>Shape_Leng</th>\n",
       "      <th>Shape_Area</th>\n",
       "      <th>geometry</th>\n",
       "    </tr>\n",
       "  </thead>\n",
       "  <tbody>\n",
       "    <tr>\n",
       "      <th>0</th>\n",
       "      <td>Pago Pago Park</td>\n",
       "      <td>Local park</td>\n",
       "      <td>7170</td>\n",
       "      <td>0.02</td>\n",
       "      <td>0.010034</td>\n",
       "      <td>0.000005</td>\n",
       "      <td>POLYGON ((-170.70291 -14.27240, -170.70316 -14...</td>\n",
       "    </tr>\n",
       "    <tr>\n",
       "      <th>1</th>\n",
       "      <td>National Park of American Samoa</td>\n",
       "      <td>National park or forest</td>\n",
       "      <td>7170</td>\n",
       "      <td>4.06</td>\n",
       "      <td>0.326497</td>\n",
       "      <td>0.000881</td>\n",
       "      <td>MULTIPOLYGON (((-170.71479 -14.28528, -170.714...</td>\n",
       "    </tr>\n",
       "    <tr>\n",
       "      <th>2</th>\n",
       "      <td>National Park of American Samoa</td>\n",
       "      <td>National park or forest</td>\n",
       "      <td>7170</td>\n",
       "      <td>8.36</td>\n",
       "      <td>0.313004</td>\n",
       "      <td>0.001814</td>\n",
       "      <td>MULTIPOLYGON (((-169.48774 -14.27263, -169.487...</td>\n",
       "    </tr>\n",
       "    <tr>\n",
       "      <th>3</th>\n",
       "      <td>Hawaiian Islands National Wildlife Refuge</td>\n",
       "      <td>Regional park</td>\n",
       "      <td>7170</td>\n",
       "      <td>2.67</td>\n",
       "      <td>0.327720</td>\n",
       "      <td>0.000620</td>\n",
       "      <td>MULTIPOLYGON (((-161.92806 23.05707, -161.9281...</td>\n",
       "    </tr>\n",
       "    <tr>\n",
       "      <th>4</th>\n",
       "      <td>Russian Fort Elizabeth State Historical Park</td>\n",
       "      <td>State park or forest</td>\n",
       "      <td>7170</td>\n",
       "      <td>0.03</td>\n",
       "      <td>0.010972</td>\n",
       "      <td>0.000006</td>\n",
       "      <td>POLYGON ((-159.66526 21.94916, -159.66526 21.9...</td>\n",
       "    </tr>\n",
       "    <tr>\n",
       "      <th>...</th>\n",
       "      <td>...</td>\n",
       "      <td>...</td>\n",
       "      <td>...</td>\n",
       "      <td>...</td>\n",
       "      <td>...</td>\n",
       "      <td>...</td>\n",
       "      <td>...</td>\n",
       "    </tr>\n",
       "    <tr>\n",
       "      <th>58023</th>\n",
       "      <td>Wettengel Park</td>\n",
       "      <td>Local park</td>\n",
       "      <td>7170</td>\n",
       "      <td>0.02</td>\n",
       "      <td>0.009093</td>\n",
       "      <td>0.000004</td>\n",
       "      <td>POLYGON ((144.83280 13.52291, 144.83261 13.522...</td>\n",
       "    </tr>\n",
       "    <tr>\n",
       "      <th>58024</th>\n",
       "      <td>Admiral William E Leahy Sports Complex</td>\n",
       "      <td>Local park</td>\n",
       "      <td>7170</td>\n",
       "      <td>0.01</td>\n",
       "      <td>0.006959</td>\n",
       "      <td>0.000003</td>\n",
       "      <td>POLYGON ((144.80576 13.47273, 144.80573 13.472...</td>\n",
       "    </tr>\n",
       "    <tr>\n",
       "      <th>58025</th>\n",
       "      <td>Two Lovers Point Park</td>\n",
       "      <td>Local park</td>\n",
       "      <td>7170</td>\n",
       "      <td>0.05</td>\n",
       "      <td>0.013617</td>\n",
       "      <td>0.000010</td>\n",
       "      <td>POLYGON ((144.80559 13.53381, 144.80564 13.533...</td>\n",
       "    </tr>\n",
       "    <tr>\n",
       "      <th>58026</th>\n",
       "      <td>Anao Conservation Area</td>\n",
       "      <td>Regional park</td>\n",
       "      <td>7170</td>\n",
       "      <td>1.21</td>\n",
       "      <td>0.100135</td>\n",
       "      <td>0.000261</td>\n",
       "      <td>POLYGON ((144.92475 13.52035, 144.92467 13.520...</td>\n",
       "    </tr>\n",
       "    <tr>\n",
       "      <th>58027</th>\n",
       "      <td>American Memorial Park</td>\n",
       "      <td>State park or forest</td>\n",
       "      <td>7170</td>\n",
       "      <td>0.22</td>\n",
       "      <td>0.069494</td>\n",
       "      <td>0.000049</td>\n",
       "      <td>POLYGON ((145.72622 15.21420, 145.72526 15.213...</td>\n",
       "    </tr>\n",
       "  </tbody>\n",
       "</table>\n",
       "<p>58028 rows × 7 columns</p>\n",
       "</div>"
      ],
      "text/plain": [
       "                                               NAME                 FEATTYPE  \\\n",
       "0                                    Pago Pago Park               Local park   \n",
       "1                   National Park of American Samoa  National park or forest   \n",
       "2                   National Park of American Samoa  National park or forest   \n",
       "3         Hawaiian Islands National Wildlife Refuge            Regional park   \n",
       "4      Russian Fort Elizabeth State Historical Park     State park or forest   \n",
       "...                                             ...                      ...   \n",
       "58023                                Wettengel Park               Local park   \n",
       "58024        Admiral William E Leahy Sports Complex               Local park   \n",
       "58025                         Two Lovers Point Park               Local park   \n",
       "58026                        Anao Conservation Area            Regional park   \n",
       "58027                        American Memorial Park     State park or forest   \n",
       "\n",
       "       MNFC  SQMI  Shape_Leng  Shape_Area  \\\n",
       "0      7170  0.02    0.010034    0.000005   \n",
       "1      7170  4.06    0.326497    0.000881   \n",
       "2      7170  8.36    0.313004    0.001814   \n",
       "3      7170  2.67    0.327720    0.000620   \n",
       "4      7170  0.03    0.010972    0.000006   \n",
       "...     ...   ...         ...         ...   \n",
       "58023  7170  0.02    0.009093    0.000004   \n",
       "58024  7170  0.01    0.006959    0.000003   \n",
       "58025  7170  0.05    0.013617    0.000010   \n",
       "58026  7170  1.21    0.100135    0.000261   \n",
       "58027  7170  0.22    0.069494    0.000049   \n",
       "\n",
       "                                                geometry  \n",
       "0      POLYGON ((-170.70291 -14.27240, -170.70316 -14...  \n",
       "1      MULTIPOLYGON (((-170.71479 -14.28528, -170.714...  \n",
       "2      MULTIPOLYGON (((-169.48774 -14.27263, -169.487...  \n",
       "3      MULTIPOLYGON (((-161.92806 23.05707, -161.9281...  \n",
       "4      POLYGON ((-159.66526 21.94916, -159.66526 21.9...  \n",
       "...                                                  ...  \n",
       "58023  POLYGON ((144.83280 13.52291, 144.83261 13.522...  \n",
       "58024  POLYGON ((144.80576 13.47273, 144.80573 13.472...  \n",
       "58025  POLYGON ((144.80559 13.53381, 144.80564 13.533...  \n",
       "58026  POLYGON ((144.92475 13.52035, 144.92467 13.520...  \n",
       "58027  POLYGON ((145.72622 15.21420, 145.72526 15.213...  \n",
       "\n",
       "[58028 rows x 7 columns]"
      ]
     },
     "execution_count": 17,
     "metadata": {},
     "output_type": "execute_result"
    }
   ],
   "source": [
    "all_parks"
   ]
  },
  {
   "cell_type": "code",
   "execution_count": 18,
   "metadata": {},
   "outputs": [],
   "source": [
    "state_parks = all_parks[all_parks['FEATTYPE'].str.contains(\"State park\")]"
   ]
  },
  {
   "cell_type": "code",
   "execution_count": 19,
   "metadata": {},
   "outputs": [],
   "source": [
    "state_parks = state_parks.reset_index(drop=True)"
   ]
  },
  {
   "cell_type": "code",
   "execution_count": 20,
   "metadata": {},
   "outputs": [],
   "source": [
    "## note: not only continental US"
   ]
  },
  {
   "cell_type": "code",
   "execution_count": 21,
   "metadata": {},
   "outputs": [
    {
     "data": {
      "text/html": [
       "<div>\n",
       "<style scoped>\n",
       "    .dataframe tbody tr th:only-of-type {\n",
       "        vertical-align: middle;\n",
       "    }\n",
       "\n",
       "    .dataframe tbody tr th {\n",
       "        vertical-align: top;\n",
       "    }\n",
       "\n",
       "    .dataframe thead th {\n",
       "        text-align: right;\n",
       "    }\n",
       "</style>\n",
       "<table border=\"1\" class=\"dataframe\">\n",
       "  <thead>\n",
       "    <tr style=\"text-align: right;\">\n",
       "      <th></th>\n",
       "      <th>NAME</th>\n",
       "      <th>FEATTYPE</th>\n",
       "      <th>MNFC</th>\n",
       "      <th>SQMI</th>\n",
       "      <th>Shape_Leng</th>\n",
       "      <th>Shape_Area</th>\n",
       "      <th>geometry</th>\n",
       "    </tr>\n",
       "  </thead>\n",
       "  <tbody>\n",
       "    <tr>\n",
       "      <th>0</th>\n",
       "      <td>Russian Fort Elizabeth State Historical Park</td>\n",
       "      <td>State park or forest</td>\n",
       "      <td>7170</td>\n",
       "      <td>0.03</td>\n",
       "      <td>0.010972</td>\n",
       "      <td>6.374467e-06</td>\n",
       "      <td>POLYGON ((-159.66526 21.94916, -159.66526 21.9...</td>\n",
       "    </tr>\n",
       "    <tr>\n",
       "      <th>1</th>\n",
       "      <td>Polihale State Park</td>\n",
       "      <td>State park or forest</td>\n",
       "      <td>7170</td>\n",
       "      <td>0.32</td>\n",
       "      <td>0.065322</td>\n",
       "      <td>7.342406e-05</td>\n",
       "      <td>POLYGON ((-159.76908 22.07109, -159.77143 22.0...</td>\n",
       "    </tr>\n",
       "    <tr>\n",
       "      <th>2</th>\n",
       "      <td>Nualolo Kai State Park</td>\n",
       "      <td>State park or forest</td>\n",
       "      <td>7170</td>\n",
       "      <td>0.03</td>\n",
       "      <td>0.017996</td>\n",
       "      <td>7.051423e-06</td>\n",
       "      <td>POLYGON ((-159.69699 22.16104, -159.69702 22.1...</td>\n",
       "    </tr>\n",
       "    <tr>\n",
       "      <th>3</th>\n",
       "      <td>Milolii State Park</td>\n",
       "      <td>State park or forest</td>\n",
       "      <td>7170</td>\n",
       "      <td>0.06</td>\n",
       "      <td>0.038908</td>\n",
       "      <td>1.363739e-05</td>\n",
       "      <td>POLYGON ((-159.72213 22.14910, -159.72266 22.1...</td>\n",
       "    </tr>\n",
       "    <tr>\n",
       "      <th>4</th>\n",
       "      <td>Na Pali Coast State Wilderness Park</td>\n",
       "      <td>State park or forest</td>\n",
       "      <td>7170</td>\n",
       "      <td>22.61</td>\n",
       "      <td>0.409562</td>\n",
       "      <td>5.127758e-03</td>\n",
       "      <td>POLYGON ((-159.64400 22.14039, -159.64429 22.1...</td>\n",
       "    </tr>\n",
       "    <tr>\n",
       "      <th>...</th>\n",
       "      <td>...</td>\n",
       "      <td>...</td>\n",
       "      <td>...</td>\n",
       "      <td>...</td>\n",
       "      <td>...</td>\n",
       "      <td>...</td>\n",
       "      <td>...</td>\n",
       "    </tr>\n",
       "    <tr>\n",
       "      <th>4649</th>\n",
       "      <td>Tagachang Beach Park</td>\n",
       "      <td>State park or forest</td>\n",
       "      <td>7170</td>\n",
       "      <td>0.21</td>\n",
       "      <td>0.042131</td>\n",
       "      <td>4.637364e-05</td>\n",
       "      <td>POLYGON ((144.78196 13.40248, 144.78197 13.402...</td>\n",
       "    </tr>\n",
       "    <tr>\n",
       "      <th>4650</th>\n",
       "      <td>Man Apu Park</td>\n",
       "      <td>State park or forest</td>\n",
       "      <td>7170</td>\n",
       "      <td>0.00</td>\n",
       "      <td>0.002017</td>\n",
       "      <td>2.859566e-07</td>\n",
       "      <td>POLYGON ((144.77643 13.41252, 144.77626 13.412...</td>\n",
       "    </tr>\n",
       "    <tr>\n",
       "      <th>4651</th>\n",
       "      <td>Matapang Beach Park</td>\n",
       "      <td>State park or forest</td>\n",
       "      <td>7170</td>\n",
       "      <td>0.00</td>\n",
       "      <td>0.003737</td>\n",
       "      <td>7.225203e-07</td>\n",
       "      <td>POLYGON ((144.80017 13.50677, 144.80011 13.506...</td>\n",
       "    </tr>\n",
       "    <tr>\n",
       "      <th>4652</th>\n",
       "      <td>South Pacific Memorial Park</td>\n",
       "      <td>State park or forest</td>\n",
       "      <td>7170</td>\n",
       "      <td>0.01</td>\n",
       "      <td>0.008660</td>\n",
       "      <td>3.027913e-06</td>\n",
       "      <td>POLYGON ((144.88593 13.54284, 144.88585 13.542...</td>\n",
       "    </tr>\n",
       "    <tr>\n",
       "      <th>4653</th>\n",
       "      <td>American Memorial Park</td>\n",
       "      <td>State park or forest</td>\n",
       "      <td>7170</td>\n",
       "      <td>0.22</td>\n",
       "      <td>0.069494</td>\n",
       "      <td>4.877860e-05</td>\n",
       "      <td>POLYGON ((145.72622 15.21420, 145.72526 15.213...</td>\n",
       "    </tr>\n",
       "  </tbody>\n",
       "</table>\n",
       "<p>4654 rows × 7 columns</p>\n",
       "</div>"
      ],
      "text/plain": [
       "                                              NAME              FEATTYPE  \\\n",
       "0     Russian Fort Elizabeth State Historical Park  State park or forest   \n",
       "1                              Polihale State Park  State park or forest   \n",
       "2                           Nualolo Kai State Park  State park or forest   \n",
       "3                               Milolii State Park  State park or forest   \n",
       "4              Na Pali Coast State Wilderness Park  State park or forest   \n",
       "...                                            ...                   ...   \n",
       "4649                          Tagachang Beach Park  State park or forest   \n",
       "4650                                  Man Apu Park  State park or forest   \n",
       "4651                           Matapang Beach Park  State park or forest   \n",
       "4652                   South Pacific Memorial Park  State park or forest   \n",
       "4653                        American Memorial Park  State park or forest   \n",
       "\n",
       "      MNFC   SQMI  Shape_Leng    Shape_Area  \\\n",
       "0     7170   0.03    0.010972  6.374467e-06   \n",
       "1     7170   0.32    0.065322  7.342406e-05   \n",
       "2     7170   0.03    0.017996  7.051423e-06   \n",
       "3     7170   0.06    0.038908  1.363739e-05   \n",
       "4     7170  22.61    0.409562  5.127758e-03   \n",
       "...    ...    ...         ...           ...   \n",
       "4649  7170   0.21    0.042131  4.637364e-05   \n",
       "4650  7170   0.00    0.002017  2.859566e-07   \n",
       "4651  7170   0.00    0.003737  7.225203e-07   \n",
       "4652  7170   0.01    0.008660  3.027913e-06   \n",
       "4653  7170   0.22    0.069494  4.877860e-05   \n",
       "\n",
       "                                               geometry  \n",
       "0     POLYGON ((-159.66526 21.94916, -159.66526 21.9...  \n",
       "1     POLYGON ((-159.76908 22.07109, -159.77143 22.0...  \n",
       "2     POLYGON ((-159.69699 22.16104, -159.69702 22.1...  \n",
       "3     POLYGON ((-159.72213 22.14910, -159.72266 22.1...  \n",
       "4     POLYGON ((-159.64400 22.14039, -159.64429 22.1...  \n",
       "...                                                 ...  \n",
       "4649  POLYGON ((144.78196 13.40248, 144.78197 13.402...  \n",
       "4650  POLYGON ((144.77643 13.41252, 144.77626 13.412...  \n",
       "4651  POLYGON ((144.80017 13.50677, 144.80011 13.506...  \n",
       "4652  POLYGON ((144.88593 13.54284, 144.88585 13.542...  \n",
       "4653  POLYGON ((145.72622 15.21420, 145.72526 15.213...  \n",
       "\n",
       "[4654 rows x 7 columns]"
      ]
     },
     "execution_count": 21,
     "metadata": {},
     "output_type": "execute_result"
    }
   ],
   "source": [
    "state_parks"
   ]
  },
  {
   "cell_type": "markdown",
   "metadata": {},
   "source": [
    "### Remove forests"
   ]
  },
  {
   "cell_type": "code",
   "execution_count": 22,
   "metadata": {},
   "outputs": [
    {
     "data": {
      "text/html": [
       "<div>\n",
       "<style scoped>\n",
       "    .dataframe tbody tr th:only-of-type {\n",
       "        vertical-align: middle;\n",
       "    }\n",
       "\n",
       "    .dataframe tbody tr th {\n",
       "        vertical-align: top;\n",
       "    }\n",
       "\n",
       "    .dataframe thead th {\n",
       "        text-align: right;\n",
       "    }\n",
       "</style>\n",
       "<table border=\"1\" class=\"dataframe\">\n",
       "  <thead>\n",
       "    <tr style=\"text-align: right;\">\n",
       "      <th></th>\n",
       "      <th>NAME</th>\n",
       "      <th>FEATTYPE</th>\n",
       "      <th>MNFC</th>\n",
       "      <th>SQMI</th>\n",
       "      <th>Shape_Leng</th>\n",
       "      <th>Shape_Area</th>\n",
       "      <th>geometry</th>\n",
       "    </tr>\n",
       "  </thead>\n",
       "  <tbody>\n",
       "    <tr>\n",
       "      <th>0</th>\n",
       "      <td>Russian Fort Elizabeth State Historical Park</td>\n",
       "      <td>State park or forest</td>\n",
       "      <td>7170</td>\n",
       "      <td>0.03</td>\n",
       "      <td>0.010972</td>\n",
       "      <td>6.374467e-06</td>\n",
       "      <td>POLYGON ((-159.66526 21.94916, -159.66526 21.9...</td>\n",
       "    </tr>\n",
       "    <tr>\n",
       "      <th>1</th>\n",
       "      <td>Polihale State Park</td>\n",
       "      <td>State park or forest</td>\n",
       "      <td>7170</td>\n",
       "      <td>0.32</td>\n",
       "      <td>0.065322</td>\n",
       "      <td>7.342406e-05</td>\n",
       "      <td>POLYGON ((-159.76908 22.07109, -159.77143 22.0...</td>\n",
       "    </tr>\n",
       "    <tr>\n",
       "      <th>2</th>\n",
       "      <td>Nualolo Kai State Park</td>\n",
       "      <td>State park or forest</td>\n",
       "      <td>7170</td>\n",
       "      <td>0.03</td>\n",
       "      <td>0.017996</td>\n",
       "      <td>7.051423e-06</td>\n",
       "      <td>POLYGON ((-159.69699 22.16104, -159.69702 22.1...</td>\n",
       "    </tr>\n",
       "    <tr>\n",
       "      <th>3</th>\n",
       "      <td>Milolii State Park</td>\n",
       "      <td>State park or forest</td>\n",
       "      <td>7170</td>\n",
       "      <td>0.06</td>\n",
       "      <td>0.038908</td>\n",
       "      <td>1.363739e-05</td>\n",
       "      <td>POLYGON ((-159.72213 22.14910, -159.72266 22.1...</td>\n",
       "    </tr>\n",
       "    <tr>\n",
       "      <th>4</th>\n",
       "      <td>Na Pali Coast State Wilderness Park</td>\n",
       "      <td>State park or forest</td>\n",
       "      <td>7170</td>\n",
       "      <td>22.61</td>\n",
       "      <td>0.409562</td>\n",
       "      <td>5.127758e-03</td>\n",
       "      <td>POLYGON ((-159.64400 22.14039, -159.64429 22.1...</td>\n",
       "    </tr>\n",
       "    <tr>\n",
       "      <th>...</th>\n",
       "      <td>...</td>\n",
       "      <td>...</td>\n",
       "      <td>...</td>\n",
       "      <td>...</td>\n",
       "      <td>...</td>\n",
       "      <td>...</td>\n",
       "      <td>...</td>\n",
       "    </tr>\n",
       "    <tr>\n",
       "      <th>4649</th>\n",
       "      <td>Tagachang Beach Park</td>\n",
       "      <td>State park or forest</td>\n",
       "      <td>7170</td>\n",
       "      <td>0.21</td>\n",
       "      <td>0.042131</td>\n",
       "      <td>4.637364e-05</td>\n",
       "      <td>POLYGON ((144.78196 13.40248, 144.78197 13.402...</td>\n",
       "    </tr>\n",
       "    <tr>\n",
       "      <th>4650</th>\n",
       "      <td>Man Apu Park</td>\n",
       "      <td>State park or forest</td>\n",
       "      <td>7170</td>\n",
       "      <td>0.00</td>\n",
       "      <td>0.002017</td>\n",
       "      <td>2.859566e-07</td>\n",
       "      <td>POLYGON ((144.77643 13.41252, 144.77626 13.412...</td>\n",
       "    </tr>\n",
       "    <tr>\n",
       "      <th>4651</th>\n",
       "      <td>Matapang Beach Park</td>\n",
       "      <td>State park or forest</td>\n",
       "      <td>7170</td>\n",
       "      <td>0.00</td>\n",
       "      <td>0.003737</td>\n",
       "      <td>7.225203e-07</td>\n",
       "      <td>POLYGON ((144.80017 13.50677, 144.80011 13.506...</td>\n",
       "    </tr>\n",
       "    <tr>\n",
       "      <th>4652</th>\n",
       "      <td>South Pacific Memorial Park</td>\n",
       "      <td>State park or forest</td>\n",
       "      <td>7170</td>\n",
       "      <td>0.01</td>\n",
       "      <td>0.008660</td>\n",
       "      <td>3.027913e-06</td>\n",
       "      <td>POLYGON ((144.88593 13.54284, 144.88585 13.542...</td>\n",
       "    </tr>\n",
       "    <tr>\n",
       "      <th>4653</th>\n",
       "      <td>American Memorial Park</td>\n",
       "      <td>State park or forest</td>\n",
       "      <td>7170</td>\n",
       "      <td>0.22</td>\n",
       "      <td>0.069494</td>\n",
       "      <td>4.877860e-05</td>\n",
       "      <td>POLYGON ((145.72622 15.21420, 145.72526 15.213...</td>\n",
       "    </tr>\n",
       "  </tbody>\n",
       "</table>\n",
       "<p>4212 rows × 7 columns</p>\n",
       "</div>"
      ],
      "text/plain": [
       "                                              NAME              FEATTYPE  \\\n",
       "0     Russian Fort Elizabeth State Historical Park  State park or forest   \n",
       "1                              Polihale State Park  State park or forest   \n",
       "2                           Nualolo Kai State Park  State park or forest   \n",
       "3                               Milolii State Park  State park or forest   \n",
       "4              Na Pali Coast State Wilderness Park  State park or forest   \n",
       "...                                            ...                   ...   \n",
       "4649                          Tagachang Beach Park  State park or forest   \n",
       "4650                                  Man Apu Park  State park or forest   \n",
       "4651                           Matapang Beach Park  State park or forest   \n",
       "4652                   South Pacific Memorial Park  State park or forest   \n",
       "4653                        American Memorial Park  State park or forest   \n",
       "\n",
       "      MNFC   SQMI  Shape_Leng    Shape_Area  \\\n",
       "0     7170   0.03    0.010972  6.374467e-06   \n",
       "1     7170   0.32    0.065322  7.342406e-05   \n",
       "2     7170   0.03    0.017996  7.051423e-06   \n",
       "3     7170   0.06    0.038908  1.363739e-05   \n",
       "4     7170  22.61    0.409562  5.127758e-03   \n",
       "...    ...    ...         ...           ...   \n",
       "4649  7170   0.21    0.042131  4.637364e-05   \n",
       "4650  7170   0.00    0.002017  2.859566e-07   \n",
       "4651  7170   0.00    0.003737  7.225203e-07   \n",
       "4652  7170   0.01    0.008660  3.027913e-06   \n",
       "4653  7170   0.22    0.069494  4.877860e-05   \n",
       "\n",
       "                                               geometry  \n",
       "0     POLYGON ((-159.66526 21.94916, -159.66526 21.9...  \n",
       "1     POLYGON ((-159.76908 22.07109, -159.77143 22.0...  \n",
       "2     POLYGON ((-159.69699 22.16104, -159.69702 22.1...  \n",
       "3     POLYGON ((-159.72213 22.14910, -159.72266 22.1...  \n",
       "4     POLYGON ((-159.64400 22.14039, -159.64429 22.1...  \n",
       "...                                                 ...  \n",
       "4649  POLYGON ((144.78196 13.40248, 144.78197 13.402...  \n",
       "4650  POLYGON ((144.77643 13.41252, 144.77626 13.412...  \n",
       "4651  POLYGON ((144.80017 13.50677, 144.80011 13.506...  \n",
       "4652  POLYGON ((144.88593 13.54284, 144.88585 13.542...  \n",
       "4653  POLYGON ((145.72622 15.21420, 145.72526 15.213...  \n",
       "\n",
       "[4212 rows x 7 columns]"
      ]
     },
     "execution_count": 22,
     "metadata": {},
     "output_type": "execute_result"
    }
   ],
   "source": [
    "state_parks_filt = state_parks[~state_parks[\"NAME\"].str.contains(\"Forest\")]\n",
    "state_parks_filt"
   ]
  },
  {
   "cell_type": "markdown",
   "metadata": {},
   "source": [
    "### Isolate national parks from all_parks to confrim if equal to the only national park df from ArcGIS"
   ]
  },
  {
   "cell_type": "code",
   "execution_count": 23,
   "metadata": {},
   "outputs": [],
   "source": [
    "nat_parks = all_parks[all_parks['FEATTYPE'].str.contains(\"National park\")]"
   ]
  },
  {
   "cell_type": "code",
   "execution_count": 24,
   "metadata": {},
   "outputs": [],
   "source": [
    "nat_parks = nat_parks.reset_index(drop=True)"
   ]
  },
  {
   "cell_type": "code",
   "execution_count": 25,
   "metadata": {},
   "outputs": [
    {
     "data": {
      "text/plain": [
       "858"
      ]
     },
     "execution_count": 25,
     "metadata": {},
     "output_type": "execute_result"
    }
   ],
   "source": [
    "len(nat_parks)"
   ]
  },
  {
   "cell_type": "markdown",
   "metadata": {},
   "source": [
    "### Drop forests and duplicates from national parks dataframe"
   ]
  },
  {
   "cell_type": "code",
   "execution_count": 26,
   "metadata": {},
   "outputs": [
    {
     "data": {
      "text/plain": [
       "621"
      ]
     },
     "execution_count": 26,
     "metadata": {},
     "output_type": "execute_result"
    }
   ],
   "source": [
    "nat_parks_df = nat_parks[~nat_parks[\"NAME\"].str.contains(\"Forest\")]\n",
    "nat_parks_df = nat_parks_df.reset_index(drop=True)\n",
    "len(nat_parks_df)"
   ]
  },
  {
   "cell_type": "code",
   "execution_count": 27,
   "metadata": {},
   "outputs": [
    {
     "data": {
      "text/plain": [
       "556"
      ]
     },
     "execution_count": 27,
     "metadata": {},
     "output_type": "execute_result"
    }
   ],
   "source": [
    "nat_parks_filt_df = nat_parks_df.drop_duplicates([\"NAME\"]).copy()\n",
    "len(nat_parks_filt_df)"
   ]
  },
  {
   "cell_type": "code",
   "execution_count": 28,
   "metadata": {},
   "outputs": [
    {
     "data": {
      "text/html": [
       "<div>\n",
       "<style scoped>\n",
       "    .dataframe tbody tr th:only-of-type {\n",
       "        vertical-align: middle;\n",
       "    }\n",
       "\n",
       "    .dataframe tbody tr th {\n",
       "        vertical-align: top;\n",
       "    }\n",
       "\n",
       "    .dataframe thead th {\n",
       "        text-align: right;\n",
       "    }\n",
       "</style>\n",
       "<table border=\"1\" class=\"dataframe\">\n",
       "  <thead>\n",
       "    <tr style=\"text-align: right;\">\n",
       "      <th></th>\n",
       "      <th>NAME</th>\n",
       "      <th>FEATTYPE</th>\n",
       "      <th>MNFC</th>\n",
       "      <th>SQMI</th>\n",
       "      <th>Shape_Leng</th>\n",
       "      <th>Shape_Area</th>\n",
       "      <th>geometry</th>\n",
       "    </tr>\n",
       "  </thead>\n",
       "  <tbody>\n",
       "    <tr>\n",
       "      <th>0</th>\n",
       "      <td>National Park of American Samoa</td>\n",
       "      <td>National park or forest</td>\n",
       "      <td>7170</td>\n",
       "      <td>4.06</td>\n",
       "      <td>0.326497</td>\n",
       "      <td>0.000881</td>\n",
       "      <td>MULTIPOLYGON (((-170.71479 -14.28528, -170.714...</td>\n",
       "    </tr>\n",
       "    <tr>\n",
       "      <th>2</th>\n",
       "      <td>U S S Arizona Memorial</td>\n",
       "      <td>National park or forest</td>\n",
       "      <td>7170</td>\n",
       "      <td>0.01</td>\n",
       "      <td>0.005446</td>\n",
       "      <td>0.000002</td>\n",
       "      <td>POLYGON ((-157.94988 21.36449, -157.95000 21.3...</td>\n",
       "    </tr>\n",
       "    <tr>\n",
       "      <th>3</th>\n",
       "      <td>Kalaupapa National Historical Park</td>\n",
       "      <td>National park or forest</td>\n",
       "      <td>7170</td>\n",
       "      <td>12.76</td>\n",
       "      <td>0.510988</td>\n",
       "      <td>0.002874</td>\n",
       "      <td>MULTIPOLYGON (((-156.90779 21.12689, -156.9122...</td>\n",
       "    </tr>\n",
       "    <tr>\n",
       "      <th>4</th>\n",
       "      <td>Kaloko Honokohau National Historical Park</td>\n",
       "      <td>National park or forest</td>\n",
       "      <td>7170</td>\n",
       "      <td>1.86</td>\n",
       "      <td>0.120178</td>\n",
       "      <td>0.000415</td>\n",
       "      <td>POLYGON ((-156.02397 19.66370, -156.02463 19.6...</td>\n",
       "    </tr>\n",
       "    <tr>\n",
       "      <th>5</th>\n",
       "      <td>Puuhonua O Honaunau National Historical Park</td>\n",
       "      <td>National park or forest</td>\n",
       "      <td>7170</td>\n",
       "      <td>0.33</td>\n",
       "      <td>0.050701</td>\n",
       "      <td>0.000074</td>\n",
       "      <td>POLYGON ((-155.90458 19.40954, -155.90515 19.4...</td>\n",
       "    </tr>\n",
       "    <tr>\n",
       "      <th>...</th>\n",
       "      <td>...</td>\n",
       "      <td>...</td>\n",
       "      <td>...</td>\n",
       "      <td>...</td>\n",
       "      <td>...</td>\n",
       "      <td>...</td>\n",
       "      <td>...</td>\n",
       "    </tr>\n",
       "    <tr>\n",
       "      <th>616</th>\n",
       "      <td>Asan Beach</td>\n",
       "      <td>National park or forest</td>\n",
       "      <td>7170</td>\n",
       "      <td>0.90</td>\n",
       "      <td>0.066921</td>\n",
       "      <td>0.000194</td>\n",
       "      <td>MULTIPOLYGON (((144.66395 13.39024, 144.66392 ...</td>\n",
       "    </tr>\n",
       "    <tr>\n",
       "      <th>617</th>\n",
       "      <td>Piti Guns</td>\n",
       "      <td>National park or forest</td>\n",
       "      <td>7170</td>\n",
       "      <td>0.04</td>\n",
       "      <td>0.013232</td>\n",
       "      <td>0.000008</td>\n",
       "      <td>POLYGON ((144.69775 13.45829, 144.69745 13.458...</td>\n",
       "    </tr>\n",
       "    <tr>\n",
       "      <th>618</th>\n",
       "      <td>Fonte Plateau</td>\n",
       "      <td>National park or forest</td>\n",
       "      <td>7170</td>\n",
       "      <td>0.05</td>\n",
       "      <td>0.013677</td>\n",
       "      <td>0.000010</td>\n",
       "      <td>POLYGON ((144.73092 13.46071, 144.73066 13.460...</td>\n",
       "    </tr>\n",
       "    <tr>\n",
       "      <th>619</th>\n",
       "      <td>Asan Overlook</td>\n",
       "      <td>National park or forest</td>\n",
       "      <td>7170</td>\n",
       "      <td>0.73</td>\n",
       "      <td>0.073907</td>\n",
       "      <td>0.000158</td>\n",
       "      <td>POLYGON ((144.71593 13.45954, 144.71419 13.459...</td>\n",
       "    </tr>\n",
       "    <tr>\n",
       "      <th>620</th>\n",
       "      <td>Guam National Wildlife Refuge</td>\n",
       "      <td>National park or forest</td>\n",
       "      <td>7170</td>\n",
       "      <td>0.55</td>\n",
       "      <td>0.089137</td>\n",
       "      <td>0.000119</td>\n",
       "      <td>MULTIPOLYGON (((144.67075 13.33018, 144.67061 ...</td>\n",
       "    </tr>\n",
       "  </tbody>\n",
       "</table>\n",
       "<p>556 rows × 7 columns</p>\n",
       "</div>"
      ],
      "text/plain": [
       "                                             NAME                 FEATTYPE  \\\n",
       "0                 National Park of American Samoa  National park or forest   \n",
       "2                          U S S Arizona Memorial  National park or forest   \n",
       "3              Kalaupapa National Historical Park  National park or forest   \n",
       "4       Kaloko Honokohau National Historical Park  National park or forest   \n",
       "5    Puuhonua O Honaunau National Historical Park  National park or forest   \n",
       "..                                            ...                      ...   \n",
       "616                                    Asan Beach  National park or forest   \n",
       "617                                     Piti Guns  National park or forest   \n",
       "618                                 Fonte Plateau  National park or forest   \n",
       "619                                 Asan Overlook  National park or forest   \n",
       "620                 Guam National Wildlife Refuge  National park or forest   \n",
       "\n",
       "     MNFC   SQMI  Shape_Leng  Shape_Area  \\\n",
       "0    7170   4.06    0.326497    0.000881   \n",
       "2    7170   0.01    0.005446    0.000002   \n",
       "3    7170  12.76    0.510988    0.002874   \n",
       "4    7170   1.86    0.120178    0.000415   \n",
       "5    7170   0.33    0.050701    0.000074   \n",
       "..    ...    ...         ...         ...   \n",
       "616  7170   0.90    0.066921    0.000194   \n",
       "617  7170   0.04    0.013232    0.000008   \n",
       "618  7170   0.05    0.013677    0.000010   \n",
       "619  7170   0.73    0.073907    0.000158   \n",
       "620  7170   0.55    0.089137    0.000119   \n",
       "\n",
       "                                              geometry  \n",
       "0    MULTIPOLYGON (((-170.71479 -14.28528, -170.714...  \n",
       "2    POLYGON ((-157.94988 21.36449, -157.95000 21.3...  \n",
       "3    MULTIPOLYGON (((-156.90779 21.12689, -156.9122...  \n",
       "4    POLYGON ((-156.02397 19.66370, -156.02463 19.6...  \n",
       "5    POLYGON ((-155.90458 19.40954, -155.90515 19.4...  \n",
       "..                                                 ...  \n",
       "616  MULTIPOLYGON (((144.66395 13.39024, 144.66392 ...  \n",
       "617  POLYGON ((144.69775 13.45829, 144.69745 13.458...  \n",
       "618  POLYGON ((144.73092 13.46071, 144.73066 13.460...  \n",
       "619  POLYGON ((144.71593 13.45954, 144.71419 13.459...  \n",
       "620  MULTIPOLYGON (((144.67075 13.33018, 144.67061 ...  \n",
       "\n",
       "[556 rows x 7 columns]"
      ]
     },
     "execution_count": 28,
     "metadata": {},
     "output_type": "execute_result"
    }
   ],
   "source": [
    "nat_parks_filt_df"
   ]
  },
  {
   "cell_type": "markdown",
   "metadata": {},
   "source": [
    "### Examine one state park to confirm accuracy - Chatfield State Park"
   ]
  },
  {
   "cell_type": "code",
   "execution_count": 30,
   "metadata": {},
   "outputs": [
    {
     "data": {
      "text/plain": [
       "NAME                                       Chatfield State Park\n",
       "FEATTYPE                                   State park or forest\n",
       "MNFC                                                       7170\n",
       "SQMI                                                       9.49\n",
       "Shape_Leng                                             0.405976\n",
       "Shape_Area                                           0.00257492\n",
       "geometry      (POLYGON ((-105.0957129 39.49084699999997, -10...\n",
       "Name: 1067, dtype: object"
      ]
     },
     "execution_count": 30,
     "metadata": {},
     "output_type": "execute_result"
    }
   ],
   "source": [
    "state_parks.loc[1067]"
   ]
  },
  {
   "cell_type": "code",
   "execution_count": 31,
   "metadata": {},
   "outputs": [
    {
     "data": {
      "text/plain": [
       "Text(0.5, 1.0, 'Chatfield State Park')"
      ]
     },
     "execution_count": 31,
     "metadata": {},
     "output_type": "execute_result"
    },
    {
     "data": {
      "image/png": "[encoded data removed]",
      "text/plain": [
       "<Figure size 432x288 with 1 Axes>"
      ]
     },
     "metadata": {
      "needs_background": "light"
     },
     "output_type": "display_data"
    }
   ],
   "source": [
    "%matplotlib inline\n",
    "park = state_parks.loc[[1067],'geometry'].plot()\n",
    "park.set_title(\"Chatfield State Park\", fontsize=15)"
   ]
  },
  {
   "cell_type": "markdown",
   "metadata": {},
   "source": [
    "### Map of chatfield from google to compare shape"
   ]
  },
  {
   "cell_type": "code",
   "execution_count": 4,
   "metadata": {},
   "outputs": [
    {
     "data": {
      "image/png": "[encoded data removed]",
      "text/plain": [
       "<Figure size 432x288 with 1 Axes>"
      ]
     },
     "metadata": {
      "needs_background": "light"
     },
     "output_type": "display_data"
    }
   ],
   "source": [
    "image = plt.imread('../input_data/chatfield_state_park.jpeg')\n",
    "plt.imshow(image)\n",
    "plt.show()"
   ]
  },
  {
   "cell_type": "markdown",
   "metadata": {},
   "source": [
    "### Dataframe for national, sate, local, regional, and county parks from ArcGIS -- (decided to use all parks and not just national and state parks)"
   ]
  },
  {
   "cell_type": "code",
   "execution_count": 33,
   "metadata": {},
   "outputs": [],
   "source": [
    "all_parks_f = all_parks[all_parks.NAME.notnull()]"
   ]
  },
  {
   "cell_type": "code",
   "execution_count": 34,
   "metadata": {},
   "outputs": [],
   "source": [
    "all_parks_filt = all_parks_f[~all_parks_f[\"NAME\"].str.contains(\"Forest\")]"
   ]
  },
  {
   "cell_type": "code",
   "execution_count": 35,
   "metadata": {},
   "outputs": [],
   "source": [
    "all_parks_df = all_parks_filt.drop_duplicates([\"NAME\"]).copy()"
   ]
  },
  {
   "cell_type": "code",
   "execution_count": 39,
   "metadata": {},
   "outputs": [],
   "source": [
    "all_parks_df.loc[(all_parks.FEATTYPE == 'National park or forest'),'FEATTYPE']='National park'\n",
    "all_parks_df.loc[(all_parks.FEATTYPE == 'State park or forest'),'FEATTYPE']='State park'"
   ]
  },
  {
   "cell_type": "code",
   "execution_count": 40,
   "metadata": {},
   "outputs": [
    {
     "data": {
      "text/html": [
       "<div>\n",
       "<style scoped>\n",
       "    .dataframe tbody tr th:only-of-type {\n",
       "        vertical-align: middle;\n",
       "    }\n",
       "\n",
       "    .dataframe tbody tr th {\n",
       "        vertical-align: top;\n",
       "    }\n",
       "\n",
       "    .dataframe thead th {\n",
       "        text-align: right;\n",
       "    }\n",
       "</style>\n",
       "<table border=\"1\" class=\"dataframe\">\n",
       "  <thead>\n",
       "    <tr style=\"text-align: right;\">\n",
       "      <th></th>\n",
       "      <th>NAME</th>\n",
       "      <th>FEATTYPE</th>\n",
       "      <th>MNFC</th>\n",
       "      <th>SQMI</th>\n",
       "      <th>Shape_Leng</th>\n",
       "      <th>Shape_Area</th>\n",
       "      <th>geometry</th>\n",
       "    </tr>\n",
       "  </thead>\n",
       "  <tbody>\n",
       "    <tr>\n",
       "      <th>0</th>\n",
       "      <td>Pago Pago Park</td>\n",
       "      <td>Local park</td>\n",
       "      <td>7170</td>\n",
       "      <td>0.02</td>\n",
       "      <td>0.010034</td>\n",
       "      <td>0.000005</td>\n",
       "      <td>POLYGON ((-170.70291 -14.27240, -170.70316 -14...</td>\n",
       "    </tr>\n",
       "    <tr>\n",
       "      <th>1</th>\n",
       "      <td>National Park of American Samoa</td>\n",
       "      <td>National park</td>\n",
       "      <td>7170</td>\n",
       "      <td>4.06</td>\n",
       "      <td>0.326497</td>\n",
       "      <td>0.000881</td>\n",
       "      <td>MULTIPOLYGON (((-170.71479 -14.28528, -170.714...</td>\n",
       "    </tr>\n",
       "    <tr>\n",
       "      <th>3</th>\n",
       "      <td>Hawaiian Islands National Wildlife Refuge</td>\n",
       "      <td>Regional park</td>\n",
       "      <td>7170</td>\n",
       "      <td>2.67</td>\n",
       "      <td>0.327720</td>\n",
       "      <td>0.000620</td>\n",
       "      <td>MULTIPOLYGON (((-161.92806 23.05707, -161.9281...</td>\n",
       "    </tr>\n",
       "    <tr>\n",
       "      <th>4</th>\n",
       "      <td>Russian Fort Elizabeth State Historical Park</td>\n",
       "      <td>State park</td>\n",
       "      <td>7170</td>\n",
       "      <td>0.03</td>\n",
       "      <td>0.010972</td>\n",
       "      <td>0.000006</td>\n",
       "      <td>POLYGON ((-159.66526 21.94916, -159.66526 21.9...</td>\n",
       "    </tr>\n",
       "    <tr>\n",
       "      <th>5</th>\n",
       "      <td>Waimea Recreation Pier Park</td>\n",
       "      <td>Local park</td>\n",
       "      <td>7170</td>\n",
       "      <td>0.01</td>\n",
       "      <td>0.004661</td>\n",
       "      <td>0.000001</td>\n",
       "      <td>POLYGON ((-159.66955 21.95445, -159.66961 21.9...</td>\n",
       "    </tr>\n",
       "  </tbody>\n",
       "</table>\n",
       "</div>"
      ],
      "text/plain": [
       "                                           NAME       FEATTYPE  MNFC  SQMI  \\\n",
       "0                                Pago Pago Park     Local park  7170  0.02   \n",
       "1               National Park of American Samoa  National park  7170  4.06   \n",
       "3     Hawaiian Islands National Wildlife Refuge  Regional park  7170  2.67   \n",
       "4  Russian Fort Elizabeth State Historical Park     State park  7170  0.03   \n",
       "5                   Waimea Recreation Pier Park     Local park  7170  0.01   \n",
       "\n",
       "   Shape_Leng  Shape_Area                                           geometry  \n",
       "0    0.010034    0.000005  POLYGON ((-170.70291 -14.27240, -170.70316 -14...  \n",
       "1    0.326497    0.000881  MULTIPOLYGON (((-170.71479 -14.28528, -170.714...  \n",
       "3    0.327720    0.000620  MULTIPOLYGON (((-161.92806 23.05707, -161.9281...  \n",
       "4    0.010972    0.000006  POLYGON ((-159.66526 21.94916, -159.66526 21.9...  \n",
       "5    0.004661    0.000001  POLYGON ((-159.66955 21.95445, -159.66961 21.9...  "
      ]
     },
     "execution_count": 40,
     "metadata": {},
     "output_type": "execute_result"
    }
   ],
   "source": [
    "all_parks_df.head()"
   ]
  },
  {
   "cell_type": "code",
   "execution_count": null,
   "metadata": {},
   "outputs": [],
   "source": [
    "all_parks_df.to_pickle(\"../../21_6_1/notebooks/all_parks_df.pkl\")"
   ]
  },
  {
   "cell_type": "code",
   "execution_count": 90,
   "metadata": {},
   "outputs": [
    {
     "data": {
      "text/plain": [
       "array(['Local park', 'National park or forest', 'Regional park',\n",
       "       'State park or forest', 'County park'], dtype=object)"
      ]
     },
     "execution_count": 90,
     "metadata": {},
     "output_type": "execute_result"
    }
   ],
   "source": [
    "all_parks['FEATTYPE'].unique()"
   ]
  }
 ],
 "metadata": {
  "kernelspec": {
   "display_name": "Python 3",
   "language": "python",
   "name": "python3"
  },
  "language_info": {
   "codemirror_mode": {
    "name": "ipython",
    "version": 3
   },
   "file_extension": ".py",
   "mimetype": "text/x-python",
   "name": "python",
   "nbconvert_exporter": "python",
   "pygments_lexer": "ipython3",
   "version": "3.8.5"
  }
 },
 "nbformat": 4,
 "nbformat_minor": 4
}
